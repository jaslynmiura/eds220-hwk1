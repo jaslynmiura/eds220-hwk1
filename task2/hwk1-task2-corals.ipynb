{
 "cells": [
  {
   "cell_type": "code",
   "execution_count": 3,
   "metadata": {
    "deletable": false,
    "editable": false,
    "tags": []
   },
   "outputs": [],
   "source": [
    "# Initialize Otter\n",
    "import otter\n",
    "grader = otter.Notebook(\"hwk1-task2-corals.ipynb\")"
   ]
  },
  {
   "cell_type": "markdown",
   "metadata": {},
   "source": [
    "# Task 2: Exploring coral diversity data\n",
    "\n",
    "## Instructions \n",
    "\n",
    "- First, update the following cell to have a link to *your* Homework 1 GitHub repository:\n"
   ]
  },
  {
   "cell_type": "markdown",
   "metadata": {},
   "source": [
    "**UPDATE THIS LINK:**\n",
    "\n",
    "[https://github.com/jaslynmiura/eds220-hwk1]()"
   ]
  },
  {
   "cell_type": "markdown",
   "metadata": {},
   "source": [
    "- This task covers topics on the lesson on [subsetting `pandas.DataFrames`](https://meds-eds-220.github.io/MEDS-eds-220-course/book/chapters/lesson-3-pandas-subsetting/lesson-3-pandas-subsetting.html). The best strategy to solve it is to get together with your classmates and work on it together after that lecture.\n",
    "\n",
    "- Review the [complete rubric for this task](https://docs.google.com/document/d/131OnUDOLpOl94SlaMU9nGqT998ABrjFS/edit?usp=sharing&ouid=111507336322611936333&rtpof=true&sd=true) before starting.\n",
    "\n",
    "- **Make at least 5 commits at moments you think are adequate.** We'll check your repository and view the commit history.\n",
    "\n",
    "- **Add comments for all your code.** Err on the side of commenting too much for now. Comments should follow best practices.\n",
    "\n"
   ]
  },
  {
   "cell_type": "markdown",
   "metadata": {
    "deletable": false,
    "editable": false
   },
   "source": [
    "<!-- BEGIN QUESTION -->\n",
    "\n",
    "\n",
    "## 1\n",
    "For this task we are going to use data about  [Western Indian Ocean Coral Diversity (McClanahan, 2023)](https://knb.ecoinformatics.org/view/doi%3A10.5063%2FF1K35S3H) from the Knowledge Network for Biocomplexity (KNB) data repository. \n",
    "\n",
    "a. Navigate to the dataset's link and explore the data package. \n",
    " \n",
    "b. Use the next markdown cell to add a brief description of the dataset, including a citation, date of access, and a link to the archive. \n"
   ]
  },
  {
   "cell_type": "markdown",
   "metadata": {
    "tags": [
     "otter_answer_cell"
    ]
   },
   "source": [
    "Dataset description: The data set contains information of various coral reefs within the Western Indian Ocean between 1998 - 2022. Information includes loctaions, taxa, and observation counts. Environmental data was also collected. This includes water quality and climate change measurements.\n",
    "\n",
    "Date of access: October 5, 2025\n",
    "\n",
    "Citation: Tim McClanahan. (2023). Western Indian Ocean Coral Diversity. Knowledge Network for Biocomplexity. doi:10.5063/F1K35S3H.\n",
    "\n",
    "Link to archive: https://knb.ecoinformatics.org/view/doi:10.5063/F1K35S3H"
   ]
  },
  {
   "cell_type": "markdown",
   "metadata": {
    "deletable": false,
    "editable": false
   },
   "source": [
    "<!-- END QUESTION -->\n",
    "\n",
    "<!-- BEGIN QUESTION -->\n",
    "\n",
    "## 2\n",
    "In the next code cell, import the `pandas` package using standard abbreviation in a code cell.\n",
    "\n",
    "Read in the data from the URL using the `pd.read_csv` function and store it as `coral_div` like this:\n",
    "\n",
    "```\n",
    "# read in data\n",
    "coral_div = pd.read_csv('the URL goes here')\n",
    "```"
   ]
  },
  {
   "cell_type": "code",
   "execution_count": 4,
   "metadata": {
    "scrolled": true,
    "tags": [
     "otter_answer_cell"
    ]
   },
   "outputs": [],
   "source": [
    "# Importing the required packages.\n",
    "import pandas as pd\n",
    "import numpy as np"
   ]
  },
  {
   "cell_type": "code",
   "execution_count": 5,
   "metadata": {},
   "outputs": [],
   "source": [
    "# Using read_csv to read in the coral data and stroing the data as 'coral_div'\n",
    "coral_div = pd.read_csv('https://knb.ecoinformatics.org/knb/d1/mn/v2/object/urn%3Auuid%3Ae7d12a5a-f1a9-4a3e-aaa5-5222f67e799d')"
   ]
  },
  {
   "cell_type": "markdown",
   "metadata": {
    "deletable": false,
    "editable": false
   },
   "source": [
    "<!-- END QUESTION -->\n",
    "\n",
    "## 3\n",
    "\n",
    "Use attributes and methods of the `coral_div` data frame to obtain the following information about it:\n",
    "\n",
    "Use the code cells marked a-e. For each, add a comment explaining what is the ouput."
   ]
  },
  {
   "cell_type": "markdown",
   "metadata": {
    "deletable": false,
    "editable": false
   },
   "source": [
    "a. how many rows and columns does it have? Store your answers in the `rows` and `columns` variables. "
   ]
  },
  {
   "cell_type": "code",
   "execution_count": 6,
   "metadata": {
    "tags": [
     "otter_answer_cell"
    ]
   },
   "outputs": [],
   "source": [
    "# Taking the first index (0) of the shape of coral_div, which tells us the number of rows in our data frame.\n",
    "rows = coral_div.shape[0]\n",
    "\n",
    "# Taking the second index (1) of the shape of coral_div, which tells us the number of columns in our data frame.\n",
    "columns = coral_div.shape[1]"
   ]
  },
  {
   "cell_type": "code",
   "execution_count": 7,
   "metadata": {
    "deletable": false,
    "editable": false,
    "tags": []
   },
   "outputs": [
    {
     "data": {
      "text/html": [
       "<p><strong><pre style='display: inline;'>q3_a</pre></strong> passed! 🎉</p>"
      ],
      "text/plain": [
       "q3_a results: All test cases passed!"
      ]
     },
     "execution_count": 7,
     "metadata": {},
     "output_type": "execute_result"
    }
   ],
   "source": [
    "grader.check(\"q3_a\")"
   ]
  },
  {
   "cell_type": "markdown",
   "metadata": {
    "deletable": false,
    "editable": false
   },
   "source": [
    "b. What are the column names? Store your answer in the `coral_div_columns` variable."
   ]
  },
  {
   "cell_type": "code",
   "execution_count": 8,
   "metadata": {
    "tags": [
     "otter_answer_cell"
    ]
   },
   "outputs": [],
   "source": [
    "# List the different column names within the coral_div data frame.\n",
    "coral_div_columns = coral_div.columns"
   ]
  },
  {
   "cell_type": "code",
   "execution_count": 9,
   "metadata": {
    "deletable": false,
    "editable": false
   },
   "outputs": [
    {
     "data": {
      "text/html": [
       "<p><strong><pre style='display: inline;'>q3_b</pre></strong> passed! 🚀</p>"
      ],
      "text/plain": [
       "q3_b results: All test cases passed!"
      ]
     },
     "execution_count": 9,
     "metadata": {},
     "output_type": "execute_result"
    }
   ],
   "source": [
    "grader.check(\"q3_b\")"
   ]
  },
  {
   "cell_type": "markdown",
   "metadata": {
    "deletable": false,
    "editable": false
   },
   "source": [
    "c. what are the data types of the columns? Store your answer in the `coral_div_types`."
   ]
  },
  {
   "cell_type": "code",
   "execution_count": 10,
   "metadata": {
    "tags": [
     "otter_answer_cell"
    ]
   },
   "outputs": [],
   "source": [
    "# Checking the data types in each column of the coral_div dataframe.\n",
    "coral_div_types = coral_div.dtypes"
   ]
  },
  {
   "cell_type": "code",
   "execution_count": 11,
   "metadata": {
    "deletable": false,
    "editable": false
   },
   "outputs": [
    {
     "data": {
      "text/html": [
       "<p><strong><pre style='display: inline;'>q3_c</pre></strong> passed! 🌟</p>"
      ],
      "text/plain": [
       "q3_c results: All test cases passed!"
      ]
     },
     "execution_count": 11,
     "metadata": {},
     "output_type": "execute_result"
    }
   ],
   "source": [
    "grader.check(\"q3_c\")"
   ]
  },
  {
   "cell_type": "markdown",
   "metadata": {
    "deletable": false,
    "editable": false
   },
   "source": [
    "d. display the first 8 rows with all the column names. For this one, you will need to udpate a `pandas` option (HINT: check the first discussion section). Store your answer in the `first_8_rows` variable."
   ]
  },
  {
   "cell_type": "code",
   "execution_count": 12,
   "metadata": {
    "tags": [
     "otter_answer_cell"
    ]
   },
   "outputs": [],
   "source": [
    "# Using head() to view the first 8 rows of the coral.div data frame.\n",
    "first_8_rows = coral_div.head(8)"
   ]
  },
  {
   "cell_type": "code",
   "execution_count": 13,
   "metadata": {
    "tags": [
     "otter_answer_cell"
    ]
   },
   "outputs": [
    {
     "data": {
      "application/vnd.microsoft.datawrangler.viewer.v0+json": {
       "columns": [
        {
         "name": "index",
         "rawType": "int64",
         "type": "integer"
        },
        {
         "name": "PU_ID",
         "rawType": "int64",
         "type": "integer"
        },
        {
         "name": "PU_Lat",
         "rawType": "float64",
         "type": "float"
        },
        {
         "name": "PU_Lon",
         "rawType": "float64",
         "type": "float"
        },
        {
         "name": "Number_of_genera",
         "rawType": "int64",
         "type": "integer"
        },
        {
         "name": "Country",
         "rawType": "object",
         "type": "string"
        },
        {
         "name": "Ecoregion",
         "rawType": "object",
         "type": "string"
        },
        {
         "name": "Management",
         "rawType": "object",
         "type": "string"
        },
        {
         "name": "Habitat",
         "rawType": "object",
         "type": "string"
        },
        {
         "name": "Observer",
         "rawType": "object",
         "type": "string"
        },
        {
         "name": "Depth",
         "rawType": "float64",
         "type": "float"
        },
        {
         "name": "Coralcover",
         "rawType": "int64",
         "type": "integer"
        },
        {
         "name": "SSTRateofRise",
         "rawType": "float64",
         "type": "float"
        },
        {
         "name": "PARmax",
         "rawType": "float64",
         "type": "float"
        },
        {
         "name": "Calcite",
         "rawType": "float64",
         "type": "float"
        },
        {
         "name": "Dis_oxygen",
         "rawType": "float64",
         "type": "float"
        },
        {
         "name": "mean.waveNRJ",
         "rawType": "float64",
         "type": "float"
        },
        {
         "name": "Salinity_mean",
         "rawType": "float64",
         "type": "float"
        },
        {
         "name": "andrello_reef_value",
         "rawType": "int64",
         "type": "integer"
        },
        {
         "name": "andrello_nutrients",
         "rawType": "float64",
         "type": "float"
        },
        {
         "name": "mean.npp",
         "rawType": "float64",
         "type": "float"
        },
        {
         "name": "TT_market_hrs",
         "rawType": "float64",
         "type": "float"
        },
        {
         "name": "TT_pop_hrs",
         "rawType": "float64",
         "type": "float"
        },
        {
         "name": "cumDHW",
         "rawType": "float64",
         "type": "float"
        },
        {
         "name": "SST_Kurtosis",
         "rawType": "float64",
         "type": "float"
        },
        {
         "name": "SST_Median",
         "rawType": "float64",
         "type": "float"
        },
        {
         "name": "ChlorA_median",
         "rawType": "float64",
         "type": "float"
        },
        {
         "name": "andrello_sediments",
         "rawType": "float64",
         "type": "float"
        },
        {
         "name": "Current_vel_mean",
         "rawType": "float64",
         "type": "float"
        },
        {
         "name": "Diff_attenuation",
         "rawType": "float64",
         "type": "float"
        },
        {
         "name": "Grav_NP",
         "rawType": "float64",
         "type": "float"
        },
        {
         "name": "Grav_NC",
         "rawType": "float64",
         "type": "float"
        },
        {
         "name": "PH",
         "rawType": "float64",
         "type": "float"
        },
        {
         "name": "SST_bimodality",
         "rawType": "float64",
         "type": "float"
        },
        {
         "name": "SST_Skewness",
         "rawType": "float64",
         "type": "float"
        },
        {
         "name": "ClimateStressModel",
         "rawType": "float64",
         "type": "float"
        },
        {
         "name": "Netflow",
         "rawType": "float64",
         "type": "float"
        },
        {
         "name": "Indegree",
         "rawType": "float64",
         "type": "float"
        },
        {
         "name": "Outdegree",
         "rawType": "float64",
         "type": "float"
        },
        {
         "name": "Retention",
         "rawType": "float64",
         "type": "float"
        },
        {
         "name": "min_yr",
         "rawType": "int64",
         "type": "integer"
        },
        {
         "name": "max_yr",
         "rawType": "int64",
         "type": "integer"
        },
        {
         "name": "no_replicates",
         "rawType": "int64",
         "type": "integer"
        }
       ],
       "ref": "50ffe57c-2631-45df-8706-125ce4971028",
       "rows": [
        [
         "0",
         "7",
         "39.076711",
         "-5.490011",
         "35",
         "Tanzania",
         "East African Coral Coast",
         "UnfishedLow",
         "Crest",
         "Tim",
         "11.0",
         "45",
         "0.019214343",
         "54.74700069",
         "0.00107525",
         "4.749500036",
         "3.714320898",
         "35.16764625",
         "0",
         "8.388602257",
         "1139.112671",
         "1.383333333",
         "0.366666667",
         "24.13326328",
         "-0.80332956",
         "27.435",
         "0.465182036",
         "53540.00781",
         "0.5419915",
         "0.09475",
         "0.008502594",
         "32.38792034",
         "8.21750021",
         "0.46255616",
         "-0.128135763",
         "0.596375003",
         "0.144498484",
         "98.25",
         "74.75",
         "14.0",
         "2019",
         "2019",
         "1"
        ],
        [
         "1",
         "7",
         "39.076711",
         "-5.490011",
         "22",
         "Tanzania",
         "East African Coral Coast",
         "UnfishedLow",
         "Lagoon/Back reef",
         "Nyawira",
         "2.0",
         "45",
         "0.019214343",
         "54.74700069",
         "0.00107525",
         "4.749500036",
         "3.714320898",
         "35.16764625",
         "0",
         "8.388602257",
         "1139.112671",
         "1.383333333",
         "0.366666667",
         "24.13326328",
         "-0.80332956",
         "27.435",
         "0.465182036",
         "53540.00781",
         "0.5419915",
         "0.09475",
         "0.008502594",
         "32.38792034",
         "8.21750021",
         "0.46255616",
         "-0.128135763",
         "0.596375003",
         "0.144498484",
         "98.25",
         "74.75",
         "14.0",
         "2010",
         "2015",
         "2"
        ],
        [
         "2",
         "7",
         "39.076711",
         "-5.490011",
         "25",
         "Tanzania",
         "East African Coral Coast",
         "UnfishedLow",
         "Slope",
         "Nyawira",
         "4.0",
         "45",
         "0.019214343",
         "54.74700069",
         "0.00107525",
         "4.749500036",
         "3.714320898",
         "35.16764625",
         "0",
         "8.388602257",
         "1139.112671",
         "1.383333333",
         "0.366666667",
         "24.13326328",
         "-0.80332956",
         "27.435",
         "0.465182036",
         "53540.00781",
         "0.5419915",
         "0.09475",
         "0.008502594",
         "32.38792034",
         "8.21750021",
         "0.46255616",
         "-0.128135763",
         "0.596375003",
         "0.144498484",
         "98.25",
         "74.75",
         "14.0",
         "2015",
         "2015",
         "1"
        ],
        [
         "3",
         "7",
         "39.076711",
         "-5.490011",
         "26",
         "Tanzania",
         "East African Coral Coast",
         "UnfishedLow",
         "Slope",
         "Nyawira",
         "3.0",
         "45",
         "0.019214343",
         "54.74700069",
         "0.00107525",
         "4.749500036",
         "3.714320898",
         "35.16764625",
         "0",
         "8.388602257",
         "1139.112671",
         "1.383333333",
         "0.366666667",
         "24.13326328",
         "-0.80332956",
         "27.435",
         "0.465182036",
         "53540.00781",
         "0.5419915",
         "0.09475",
         "0.008502594",
         "32.38792034",
         "8.21750021",
         "0.46255616",
         "-0.128135763",
         "0.596375003",
         "0.144498484",
         "98.25",
         "74.75",
         "14.0",
         "2016",
         "2019",
         "2"
        ],
        [
         "4",
         "10",
         "39.054253",
         "-5.512514",
         "27",
         "Tanzania",
         "East African Coral Coast",
         "UnfishedLow",
         "Lagoon/Back reef",
         "Nyawira",
         "1.5",
         "48",
         "0.020050736",
         "55.39500046",
         "0.001747",
         "4.750999928",
         "3.27093792",
         "35.102688",
         "0",
         "6.731859684",
         "1126.355957",
         "1.383333333",
         "0.366666667",
         "25.34290148",
         "-0.793681303",
         "27.455",
         "0.70052138",
         "38477.10547",
         "0.690454",
         "0.114",
         "0.008502594",
         "32.38792034",
         "8.218000412",
         "0.461297272",
         "-0.134548179",
         "0.629000008",
         "0.011721459",
         "112.75",
         "51.5",
         "183.75",
         "2010",
         "2019",
         "3"
        ],
        [
         "5",
         "10",
         "39.054253",
         "-5.512514",
         "29",
         "Tanzania",
         "East African Coral Coast",
         "UnfishedLow",
         "Lagoon/Back reef",
         "Tim",
         "1.5",
         "48",
         "0.020050736",
         "55.39500046",
         "0.001747",
         "4.750999928",
         "3.27093792",
         "35.102688",
         "0",
         "6.731859684",
         "1126.355957",
         "1.383333333",
         "0.366666667",
         "25.34290148",
         "-0.793681303",
         "27.455",
         "0.70052138",
         "38477.10547",
         "0.690454",
         "0.114",
         "0.008502594",
         "32.38792034",
         "8.218000412",
         "0.461297272",
         "-0.134548179",
         "0.629000008",
         "0.011721459",
         "112.75",
         "51.5",
         "183.75",
         "2015",
         "2015",
         "1"
        ],
        [
         "6",
         "15",
         "39.054253",
         "-5.535017",
         "19",
         "Tanzania",
         "East African Coral Coast",
         "Restricted",
         "Crest",
         "Tim",
         "8.0",
         "41",
         "0.020050736",
         "55.39500046",
         "0.001747",
         "4.750999928",
         "3.27093792",
         "35.102688",
         "0",
         "6.731859684",
         "1126.355957",
         "1.383333333",
         "0.366666667",
         "25.34290148",
         "-0.793681303",
         "27.455",
         "0.592691772",
         "38477.10547",
         "0.690454",
         "0.114",
         "0.008502594",
         "32.38792034",
         "8.218000412",
         "0.461297272",
         "-0.134548179",
         "0.595600009",
         "0.011721459",
         "112.75",
         "51.5",
         "183.75",
         "2019",
         "2019",
         "1"
        ],
        [
         "7",
         "39",
         "39.009337",
         "-5.647518",
         "28",
         "Tanzania",
         "East African Coral Coast",
         "UnfishedLow",
         "Lagoon/Back reef",
         "Nyawira",
         "3.0",
         "49",
         "0.021357877",
         "54.93549919",
         "0.001744",
         "4.754000187",
         "2.85774684",
         "35.106329",
         "0",
         "2.645198584",
         "1150.677856",
         "1.783333333",
         "0.333333333",
         "30.26521871",
         "-0.795494018",
         "27.525",
         "0.656533107",
         "3224.024414",
         "0.5616595",
         "0.105",
         "0.512126397",
         "19.63482764",
         "8.218500137",
         "0.464873868",
         "-0.158600856",
         "0.625999987",
         "-0.063087175",
         "96.5",
         "40.75",
         "35.75",
         "2015",
         "2019",
         "3"
        ]
       ],
       "shape": {
        "columns": 42,
        "rows": 8
       }
      },
      "text/html": [
       "<div>\n",
       "<style scoped>\n",
       "    .dataframe tbody tr th:only-of-type {\n",
       "        vertical-align: middle;\n",
       "    }\n",
       "\n",
       "    .dataframe tbody tr th {\n",
       "        vertical-align: top;\n",
       "    }\n",
       "\n",
       "    .dataframe thead th {\n",
       "        text-align: right;\n",
       "    }\n",
       "</style>\n",
       "<table border=\"1\" class=\"dataframe\">\n",
       "  <thead>\n",
       "    <tr style=\"text-align: right;\">\n",
       "      <th></th>\n",
       "      <th>PU_ID</th>\n",
       "      <th>PU_Lat</th>\n",
       "      <th>PU_Lon</th>\n",
       "      <th>Number_of_genera</th>\n",
       "      <th>Country</th>\n",
       "      <th>Ecoregion</th>\n",
       "      <th>Management</th>\n",
       "      <th>Habitat</th>\n",
       "      <th>Observer</th>\n",
       "      <th>Depth</th>\n",
       "      <th>...</th>\n",
       "      <th>SST_bimodality</th>\n",
       "      <th>SST_Skewness</th>\n",
       "      <th>ClimateStressModel</th>\n",
       "      <th>Netflow</th>\n",
       "      <th>Indegree</th>\n",
       "      <th>Outdegree</th>\n",
       "      <th>Retention</th>\n",
       "      <th>min_yr</th>\n",
       "      <th>max_yr</th>\n",
       "      <th>no_replicates</th>\n",
       "    </tr>\n",
       "  </thead>\n",
       "  <tbody>\n",
       "    <tr>\n",
       "      <th>0</th>\n",
       "      <td>7</td>\n",
       "      <td>39.076711</td>\n",
       "      <td>-5.490011</td>\n",
       "      <td>35</td>\n",
       "      <td>Tanzania</td>\n",
       "      <td>East African Coral Coast</td>\n",
       "      <td>UnfishedLow</td>\n",
       "      <td>Crest</td>\n",
       "      <td>Tim</td>\n",
       "      <td>11.0</td>\n",
       "      <td>...</td>\n",
       "      <td>0.462556</td>\n",
       "      <td>-0.128136</td>\n",
       "      <td>0.596375</td>\n",
       "      <td>0.144498</td>\n",
       "      <td>98.25</td>\n",
       "      <td>74.75</td>\n",
       "      <td>14.00</td>\n",
       "      <td>2019</td>\n",
       "      <td>2019</td>\n",
       "      <td>1</td>\n",
       "    </tr>\n",
       "    <tr>\n",
       "      <th>1</th>\n",
       "      <td>7</td>\n",
       "      <td>39.076711</td>\n",
       "      <td>-5.490011</td>\n",
       "      <td>22</td>\n",
       "      <td>Tanzania</td>\n",
       "      <td>East African Coral Coast</td>\n",
       "      <td>UnfishedLow</td>\n",
       "      <td>Lagoon/Back reef</td>\n",
       "      <td>Nyawira</td>\n",
       "      <td>2.0</td>\n",
       "      <td>...</td>\n",
       "      <td>0.462556</td>\n",
       "      <td>-0.128136</td>\n",
       "      <td>0.596375</td>\n",
       "      <td>0.144498</td>\n",
       "      <td>98.25</td>\n",
       "      <td>74.75</td>\n",
       "      <td>14.00</td>\n",
       "      <td>2010</td>\n",
       "      <td>2015</td>\n",
       "      <td>2</td>\n",
       "    </tr>\n",
       "    <tr>\n",
       "      <th>2</th>\n",
       "      <td>7</td>\n",
       "      <td>39.076711</td>\n",
       "      <td>-5.490011</td>\n",
       "      <td>25</td>\n",
       "      <td>Tanzania</td>\n",
       "      <td>East African Coral Coast</td>\n",
       "      <td>UnfishedLow</td>\n",
       "      <td>Slope</td>\n",
       "      <td>Nyawira</td>\n",
       "      <td>4.0</td>\n",
       "      <td>...</td>\n",
       "      <td>0.462556</td>\n",
       "      <td>-0.128136</td>\n",
       "      <td>0.596375</td>\n",
       "      <td>0.144498</td>\n",
       "      <td>98.25</td>\n",
       "      <td>74.75</td>\n",
       "      <td>14.00</td>\n",
       "      <td>2015</td>\n",
       "      <td>2015</td>\n",
       "      <td>1</td>\n",
       "    </tr>\n",
       "    <tr>\n",
       "      <th>3</th>\n",
       "      <td>7</td>\n",
       "      <td>39.076711</td>\n",
       "      <td>-5.490011</td>\n",
       "      <td>26</td>\n",
       "      <td>Tanzania</td>\n",
       "      <td>East African Coral Coast</td>\n",
       "      <td>UnfishedLow</td>\n",
       "      <td>Slope</td>\n",
       "      <td>Nyawira</td>\n",
       "      <td>3.0</td>\n",
       "      <td>...</td>\n",
       "      <td>0.462556</td>\n",
       "      <td>-0.128136</td>\n",
       "      <td>0.596375</td>\n",
       "      <td>0.144498</td>\n",
       "      <td>98.25</td>\n",
       "      <td>74.75</td>\n",
       "      <td>14.00</td>\n",
       "      <td>2016</td>\n",
       "      <td>2019</td>\n",
       "      <td>2</td>\n",
       "    </tr>\n",
       "    <tr>\n",
       "      <th>4</th>\n",
       "      <td>10</td>\n",
       "      <td>39.054253</td>\n",
       "      <td>-5.512514</td>\n",
       "      <td>27</td>\n",
       "      <td>Tanzania</td>\n",
       "      <td>East African Coral Coast</td>\n",
       "      <td>UnfishedLow</td>\n",
       "      <td>Lagoon/Back reef</td>\n",
       "      <td>Nyawira</td>\n",
       "      <td>1.5</td>\n",
       "      <td>...</td>\n",
       "      <td>0.461297</td>\n",
       "      <td>-0.134548</td>\n",
       "      <td>0.629000</td>\n",
       "      <td>0.011721</td>\n",
       "      <td>112.75</td>\n",
       "      <td>51.50</td>\n",
       "      <td>183.75</td>\n",
       "      <td>2010</td>\n",
       "      <td>2019</td>\n",
       "      <td>3</td>\n",
       "    </tr>\n",
       "    <tr>\n",
       "      <th>5</th>\n",
       "      <td>10</td>\n",
       "      <td>39.054253</td>\n",
       "      <td>-5.512514</td>\n",
       "      <td>29</td>\n",
       "      <td>Tanzania</td>\n",
       "      <td>East African Coral Coast</td>\n",
       "      <td>UnfishedLow</td>\n",
       "      <td>Lagoon/Back reef</td>\n",
       "      <td>Tim</td>\n",
       "      <td>1.5</td>\n",
       "      <td>...</td>\n",
       "      <td>0.461297</td>\n",
       "      <td>-0.134548</td>\n",
       "      <td>0.629000</td>\n",
       "      <td>0.011721</td>\n",
       "      <td>112.75</td>\n",
       "      <td>51.50</td>\n",
       "      <td>183.75</td>\n",
       "      <td>2015</td>\n",
       "      <td>2015</td>\n",
       "      <td>1</td>\n",
       "    </tr>\n",
       "    <tr>\n",
       "      <th>6</th>\n",
       "      <td>15</td>\n",
       "      <td>39.054253</td>\n",
       "      <td>-5.535017</td>\n",
       "      <td>19</td>\n",
       "      <td>Tanzania</td>\n",
       "      <td>East African Coral Coast</td>\n",
       "      <td>Restricted</td>\n",
       "      <td>Crest</td>\n",
       "      <td>Tim</td>\n",
       "      <td>8.0</td>\n",
       "      <td>...</td>\n",
       "      <td>0.461297</td>\n",
       "      <td>-0.134548</td>\n",
       "      <td>0.595600</td>\n",
       "      <td>0.011721</td>\n",
       "      <td>112.75</td>\n",
       "      <td>51.50</td>\n",
       "      <td>183.75</td>\n",
       "      <td>2019</td>\n",
       "      <td>2019</td>\n",
       "      <td>1</td>\n",
       "    </tr>\n",
       "    <tr>\n",
       "      <th>7</th>\n",
       "      <td>39</td>\n",
       "      <td>39.009337</td>\n",
       "      <td>-5.647518</td>\n",
       "      <td>28</td>\n",
       "      <td>Tanzania</td>\n",
       "      <td>East African Coral Coast</td>\n",
       "      <td>UnfishedLow</td>\n",
       "      <td>Lagoon/Back reef</td>\n",
       "      <td>Nyawira</td>\n",
       "      <td>3.0</td>\n",
       "      <td>...</td>\n",
       "      <td>0.464874</td>\n",
       "      <td>-0.158601</td>\n",
       "      <td>0.626000</td>\n",
       "      <td>-0.063087</td>\n",
       "      <td>96.50</td>\n",
       "      <td>40.75</td>\n",
       "      <td>35.75</td>\n",
       "      <td>2015</td>\n",
       "      <td>2019</td>\n",
       "      <td>3</td>\n",
       "    </tr>\n",
       "  </tbody>\n",
       "</table>\n",
       "<p>8 rows × 42 columns</p>\n",
       "</div>"
      ],
      "text/plain": [
       "   PU_ID     PU_Lat    PU_Lon  Number_of_genera   Country  \\\n",
       "0      7  39.076711 -5.490011                35  Tanzania   \n",
       "1      7  39.076711 -5.490011                22  Tanzania   \n",
       "2      7  39.076711 -5.490011                25  Tanzania   \n",
       "3      7  39.076711 -5.490011                26  Tanzania   \n",
       "4     10  39.054253 -5.512514                27  Tanzania   \n",
       "5     10  39.054253 -5.512514                29  Tanzania   \n",
       "6     15  39.054253 -5.535017                19  Tanzania   \n",
       "7     39  39.009337 -5.647518                28  Tanzania   \n",
       "\n",
       "                  Ecoregion   Management           Habitat Observer  Depth  \\\n",
       "0  East African Coral Coast  UnfishedLow             Crest      Tim   11.0   \n",
       "1  East African Coral Coast  UnfishedLow  Lagoon/Back reef  Nyawira    2.0   \n",
       "2  East African Coral Coast  UnfishedLow             Slope  Nyawira    4.0   \n",
       "3  East African Coral Coast  UnfishedLow             Slope  Nyawira    3.0   \n",
       "4  East African Coral Coast  UnfishedLow  Lagoon/Back reef  Nyawira    1.5   \n",
       "5  East African Coral Coast  UnfishedLow  Lagoon/Back reef      Tim    1.5   \n",
       "6  East African Coral Coast   Restricted             Crest      Tim    8.0   \n",
       "7  East African Coral Coast  UnfishedLow  Lagoon/Back reef  Nyawira    3.0   \n",
       "\n",
       "   ...  SST_bimodality  SST_Skewness  ClimateStressModel   Netflow  Indegree  \\\n",
       "0  ...        0.462556     -0.128136            0.596375  0.144498     98.25   \n",
       "1  ...        0.462556     -0.128136            0.596375  0.144498     98.25   \n",
       "2  ...        0.462556     -0.128136            0.596375  0.144498     98.25   \n",
       "3  ...        0.462556     -0.128136            0.596375  0.144498     98.25   \n",
       "4  ...        0.461297     -0.134548            0.629000  0.011721    112.75   \n",
       "5  ...        0.461297     -0.134548            0.629000  0.011721    112.75   \n",
       "6  ...        0.461297     -0.134548            0.595600  0.011721    112.75   \n",
       "7  ...        0.464874     -0.158601            0.626000 -0.063087     96.50   \n",
       "\n",
       "   Outdegree  Retention  min_yr  max_yr  no_replicates  \n",
       "0      74.75      14.00    2019    2019              1  \n",
       "1      74.75      14.00    2010    2015              2  \n",
       "2      74.75      14.00    2015    2015              1  \n",
       "3      74.75      14.00    2016    2019              2  \n",
       "4      51.50     183.75    2010    2019              3  \n",
       "5      51.50     183.75    2015    2015              1  \n",
       "6      51.50     183.75    2019    2019              1  \n",
       "7      40.75      35.75    2015    2019              3  \n",
       "\n",
       "[8 rows x 42 columns]"
      ]
     },
     "execution_count": 13,
     "metadata": {},
     "output_type": "execute_result"
    }
   ],
   "source": [
    "# View the dataframe \n",
    "first_8_rows"
   ]
  },
  {
   "cell_type": "code",
   "execution_count": 14,
   "metadata": {
    "deletable": false,
    "editable": false
   },
   "outputs": [
    {
     "data": {
      "text/html": [
       "<p><strong><pre style='display: inline;'>q3_d</pre></strong> passed! 🙌</p>"
      ],
      "text/plain": [
       "q3_d results: All test cases passed!"
      ]
     },
     "execution_count": 14,
     "metadata": {},
     "output_type": "execute_result"
    }
   ],
   "source": [
    "grader.check(\"q3_d\")"
   ]
  },
  {
   "cell_type": "markdown",
   "metadata": {
    "deletable": false,
    "editable": false
   },
   "source": [
    "<!-- BEGIN QUESTION -->\n",
    "\n",
    "e. Write code to find out some other inital information you are interested in. "
   ]
  },
  {
   "cell_type": "code",
   "execution_count": 15,
   "metadata": {
    "tags": [
     "otter_answer_cell"
    ]
   },
   "outputs": [
    {
     "data": {
      "application/vnd.microsoft.datawrangler.viewer.v0+json": {
       "columns": [
        {
         "name": "index",
         "rawType": "object",
         "type": "string"
        },
        {
         "name": "0",
         "rawType": "int64",
         "type": "integer"
        }
       ],
       "ref": "ec61a966-3e54-494a-97a6-4eef1be4192d",
       "rows": [
        [
         "PU_ID",
         "304"
        ],
        [
         "PU_Lat",
         "152"
        ],
        [
         "PU_Lon",
         "217"
        ],
        [
         "Number_of_genera",
         "37"
        ],
        [
         "Country",
         "11"
        ],
        [
         "Ecoregion",
         "6"
        ],
        [
         "Management",
         "4"
        ],
        [
         "Habitat",
         "6"
        ],
        [
         "Observer",
         "16"
        ],
        [
         "Depth",
         "111"
        ],
        [
         "Coralcover",
         "46"
        ],
        [
         "SSTRateofRise",
         "283"
        ],
        [
         "PARmax",
         "221"
        ],
        [
         "Calcite",
         "219"
        ],
        [
         "Dis_oxygen",
         "187"
        ],
        [
         "mean.waveNRJ",
         "237"
        ],
        [
         "Salinity_mean",
         "226"
        ],
        [
         "andrello_reef_value",
         "139"
        ],
        [
         "andrello_nutrients",
         "165"
        ],
        [
         "mean.npp",
         "197"
        ],
        [
         "TT_market_hrs",
         "129"
        ],
        [
         "TT_pop_hrs",
         "51"
        ],
        [
         "cumDHW",
         "283"
        ],
        [
         "SST_Kurtosis",
         "283"
        ],
        [
         "SST_Median",
         "193"
        ],
        [
         "ChlorA_median",
         "283"
        ],
        [
         "andrello_sediments",
         "180"
        ],
        [
         "Current_vel_mean",
         "224"
        ],
        [
         "Diff_attenuation",
         "165"
        ],
        [
         "Grav_NP",
         "168"
        ],
        [
         "Grav_NC",
         "169"
        ],
        [
         "PH",
         "62"
        ],
        [
         "SST_bimodality",
         "282"
        ],
        [
         "SST_Skewness",
         "283"
        ],
        [
         "ClimateStressModel",
         "297"
        ],
        [
         "Netflow",
         "126"
        ],
        [
         "Indegree",
         "110"
        ],
        [
         "Outdegree",
         "106"
        ],
        [
         "Retention",
         "109"
        ],
        [
         "min_yr",
         "19"
        ],
        [
         "max_yr",
         "19"
        ],
        [
         "no_replicates",
         "12"
        ]
       ],
       "shape": {
        "columns": 1,
        "rows": 42
       }
      },
      "text/plain": [
       "PU_ID                  304\n",
       "PU_Lat                 152\n",
       "PU_Lon                 217\n",
       "Number_of_genera        37\n",
       "Country                 11\n",
       "Ecoregion                6\n",
       "Management               4\n",
       "Habitat                  6\n",
       "Observer                16\n",
       "Depth                  111\n",
       "Coralcover              46\n",
       "SSTRateofRise          283\n",
       "PARmax                 221\n",
       "Calcite                219\n",
       "Dis_oxygen             187\n",
       "mean.waveNRJ           237\n",
       "Salinity_mean          226\n",
       "andrello_reef_value    139\n",
       "andrello_nutrients     165\n",
       "mean.npp               197\n",
       "TT_market_hrs          129\n",
       "TT_pop_hrs              51\n",
       "cumDHW                 283\n",
       "SST_Kurtosis           283\n",
       "SST_Median             193\n",
       "ChlorA_median          283\n",
       "andrello_sediments     180\n",
       "Current_vel_mean       224\n",
       "Diff_attenuation       165\n",
       "Grav_NP                168\n",
       "Grav_NC                169\n",
       "PH                      62\n",
       "SST_bimodality         282\n",
       "SST_Skewness           283\n",
       "ClimateStressModel     297\n",
       "Netflow                126\n",
       "Indegree               110\n",
       "Outdegree              106\n",
       "Retention              109\n",
       "min_yr                  19\n",
       "max_yr                  19\n",
       "no_replicates           12\n",
       "dtype: int64"
      ]
     },
     "execution_count": 15,
     "metadata": {},
     "output_type": "execute_result"
    }
   ],
   "source": [
    "# Using `nunique()` to determine number of unique variables in each column.\n",
    "coral_div.nunique()"
   ]
  },
  {
   "cell_type": "markdown",
   "metadata": {
    "deletable": false,
    "editable": false
   },
   "source": [
    "<!-- END QUESTION -->\n",
    "\n",
    "<!-- BEGIN QUESTION -->\n",
    "\n",
    "## 4\n",
    "\n",
    "Some of the columns have data type `int64` and some have data type `float64`. What is the difference between these `int64` and `float64`?\n"
   ]
  },
  {
   "cell_type": "markdown",
   "metadata": {
    "tags": [
     "otter_answer_cell"
    ]
   },
   "source": [
    "An `int64` data type is an integer value while a `float64` data type is a decimal value."
   ]
  },
  {
   "cell_type": "markdown",
   "metadata": {
    "deletable": false,
    "editable": false
   },
   "source": [
    "<!-- END QUESTION -->\n",
    "\n",
    "<!-- BEGIN QUESTION -->\n",
    "\n",
    "## 5\n",
    "\n",
    "The `Country` column indicates the country where the coral reef is located. Explain, in your own words, what is the ouput of `coral_div['Country']` and `coral_div['Country'].unique()`. "
   ]
  },
  {
   "cell_type": "markdown",
   "metadata": {
    "tags": [
     "otter_answer_cell"
    ]
   },
   "source": [
    "`coral_div['Country']` returns a series of all the values in the 'Country' coulmn.\n",
    "\n",
    "`coral_div['Country'].unique()` returns an array of the unquie value **names** in our 'Country' column."
   ]
  },
  {
   "cell_type": "markdown",
   "metadata": {
    "deletable": false,
    "editable": false
   },
   "source": [
    "<!-- END QUESTION -->\n",
    "\n",
    "## 6\n",
    "\n",
    "Check the dataset's [metadata file README_md.doc](https://knb.ecoinformatics.org/view/doi:10.5063/F1K35S3H) to find which column has information about who made an observation. How many observers collected this data? HINT: Check this [method for `pandas.DataFrame`](https://pandas.pydata.org/docs/reference/api/pandas.DataFrame.nunique.html). Store your answer in the `unique_observers` variable."
   ]
  },
  {
   "cell_type": "code",
   "execution_count": 16,
   "metadata": {
    "tags": [
     "otter_answer_cell"
    ]
   },
   "outputs": [],
   "source": [
    "# Selecting the 'Observer' column in the coral_div dataframe, then using nunique() to determine the number of unique values in the column.\n",
    "unique_observers = coral_div['Observer'].nunique()"
   ]
  },
  {
   "cell_type": "code",
   "execution_count": 17,
   "metadata": {
    "deletable": false,
    "editable": false
   },
   "outputs": [
    {
     "data": {
      "text/html": [
       "<p><strong><pre style='display: inline;'>q6</pre></strong> passed! 🚀</p>"
      ],
      "text/plain": [
       "q6 results: All test cases passed!"
      ]
     },
     "execution_count": 17,
     "metadata": {},
     "output_type": "execute_result"
    }
   ],
   "source": [
    "grader.check(\"q6\")"
   ]
  },
  {
   "cell_type": "markdown",
   "metadata": {},
   "source": [
    "## 7\n",
    "\n",
    "The `Coralcover` column indicates the percent of hard coral cover in each 6 km reef cell surveyed. "
   ]
  },
  {
   "cell_type": "markdown",
   "metadata": {
    "deletable": false,
    "editable": false
   },
   "source": [
    "<!-- BEGIN QUESTION -->\n",
    "\n",
    "a)  Describe, in detail,  what kind of object `coral_div['Coralcover']>= 50` is."
   ]
  },
  {
   "cell_type": "code",
   "execution_count": null,
   "metadata": {},
   "outputs": [
    {
     "name": "stdout",
     "output_type": "stream",
     "text": [
      "<class 'pandas.core.series.Series'>\n"
     ]
    },
    {
     "data": {
      "application/vnd.microsoft.datawrangler.viewer.v0+json": {
       "columns": [
        {
         "name": "index",
         "rawType": "int64",
         "type": "integer"
        },
        {
         "name": "Coralcover",
         "rawType": "bool",
         "type": "boolean"
        }
       ],
       "ref": "ade00efd-da00-43de-882d-ded1f8a11f5d",
       "rows": [
        [
         "0",
         "False"
        ],
        [
         "1",
         "False"
        ],
        [
         "2",
         "False"
        ],
        [
         "3",
         "False"
        ],
        [
         "4",
         "False"
        ],
        [
         "5",
         "False"
        ],
        [
         "6",
         "False"
        ],
        [
         "7",
         "False"
        ],
        [
         "8",
         "False"
        ],
        [
         "9",
         "False"
        ],
        [
         "10",
         "False"
        ],
        [
         "11",
         "False"
        ],
        [
         "12",
         "False"
        ],
        [
         "13",
         "False"
        ],
        [
         "14",
         "False"
        ],
        [
         "15",
         "False"
        ],
        [
         "16",
         "False"
        ],
        [
         "17",
         "False"
        ],
        [
         "18",
         "False"
        ],
        [
         "19",
         "False"
        ],
        [
         "20",
         "False"
        ],
        [
         "21",
         "False"
        ],
        [
         "22",
         "False"
        ],
        [
         "23",
         "False"
        ],
        [
         "24",
         "False"
        ],
        [
         "25",
         "False"
        ],
        [
         "26",
         "False"
        ],
        [
         "27",
         "False"
        ],
        [
         "28",
         "False"
        ],
        [
         "29",
         "False"
        ],
        [
         "30",
         "False"
        ],
        [
         "31",
         "False"
        ],
        [
         "32",
         "False"
        ],
        [
         "33",
         "False"
        ],
        [
         "34",
         "False"
        ],
        [
         "35",
         "False"
        ],
        [
         "36",
         "False"
        ],
        [
         "37",
         "False"
        ],
        [
         "38",
         "False"
        ],
        [
         "39",
         "True"
        ],
        [
         "40",
         "True"
        ],
        [
         "41",
         "True"
        ],
        [
         "42",
         "True"
        ],
        [
         "43",
         "True"
        ],
        [
         "44",
         "True"
        ],
        [
         "45",
         "False"
        ],
        [
         "46",
         "False"
        ],
        [
         "47",
         "False"
        ],
        [
         "48",
         "False"
        ],
        [
         "49",
         "False"
        ]
       ],
       "shape": {
        "columns": 1,
        "rows": 575
       }
      },
      "text/plain": [
       "0      False\n",
       "1      False\n",
       "2      False\n",
       "3      False\n",
       "4      False\n",
       "       ...  \n",
       "570    False\n",
       "571    False\n",
       "572    False\n",
       "573    False\n",
       "574    False\n",
       "Name: Coralcover, Length: 575, dtype: bool"
      ]
     },
     "execution_count": 39,
     "metadata": {},
     "output_type": "execute_result"
    }
   ],
   "source": [
    "# Selecting the 'Coralcover' column from the coral_div dataframe and filtering to the rows where the values in the selected column are equal to or greater than 50.\n",
    "coral_test = coral_div['Coralcover'] >= 50\n",
    "\n",
    "# Using type() to determine the object type of coral_test.\n",
    "print(type(coral_test))\n",
    "\n",
    "# Viewing the object.\n",
    "coral_test"
   ]
  },
  {
   "cell_type": "markdown",
   "metadata": {
    "tags": [
     "otter_answer_cell"
    ]
   },
   "source": [
    "`coral_div['Coralcover'] >= 50` is a series of True or False statements. If the value in 'Coralcover' is equal to or greater than 50, 'True' is returned. If the value in 'Coralcover is equal to or less than 50, 'False' is returned."
   ]
  },
  {
   "cell_type": "markdown",
   "metadata": {
    "deletable": false,
    "editable": false
   },
   "source": [
    "<!-- END QUESTION -->\n",
    "\n",
    "<!-- BEGIN QUESTION -->\n",
    "\n",
    "b) What data is `coral_div[coral_div['Coralcover'] >= 50]` selecting?"
   ]
  },
  {
   "cell_type": "markdown",
   "metadata": {
    "tags": [
     "otter_answer_cell"
    ]
   },
   "source": [
    "`coral_div[coral_div['Coralcover'] >= 50]` is selecting the data in the 'Coralcover' column that is equal to or greater than 50, and is also selecting all the cooresponding rows in the data frame."
   ]
  },
  {
   "cell_type": "code",
   "execution_count": null,
   "metadata": {},
   "outputs": [
    {
     "data": {
      "application/vnd.microsoft.datawrangler.viewer.v0+json": {
       "columns": [
        {
         "name": "index",
         "rawType": "int64",
         "type": "integer"
        },
        {
         "name": "PU_ID",
         "rawType": "int64",
         "type": "integer"
        },
        {
         "name": "PU_Lat",
         "rawType": "float64",
         "type": "float"
        },
        {
         "name": "PU_Lon",
         "rawType": "float64",
         "type": "float"
        },
        {
         "name": "Number_of_genera",
         "rawType": "int64",
         "type": "integer"
        },
        {
         "name": "Country",
         "rawType": "object",
         "type": "string"
        },
        {
         "name": "Ecoregion",
         "rawType": "object",
         "type": "string"
        },
        {
         "name": "Management",
         "rawType": "object",
         "type": "string"
        },
        {
         "name": "Habitat",
         "rawType": "object",
         "type": "string"
        },
        {
         "name": "Observer",
         "rawType": "object",
         "type": "string"
        },
        {
         "name": "Depth",
         "rawType": "float64",
         "type": "float"
        },
        {
         "name": "Coralcover",
         "rawType": "int64",
         "type": "integer"
        },
        {
         "name": "SSTRateofRise",
         "rawType": "float64",
         "type": "float"
        },
        {
         "name": "PARmax",
         "rawType": "float64",
         "type": "float"
        },
        {
         "name": "Calcite",
         "rawType": "float64",
         "type": "float"
        },
        {
         "name": "Dis_oxygen",
         "rawType": "float64",
         "type": "float"
        },
        {
         "name": "mean.waveNRJ",
         "rawType": "float64",
         "type": "float"
        },
        {
         "name": "Salinity_mean",
         "rawType": "float64",
         "type": "float"
        },
        {
         "name": "andrello_reef_value",
         "rawType": "int64",
         "type": "integer"
        },
        {
         "name": "andrello_nutrients",
         "rawType": "float64",
         "type": "float"
        },
        {
         "name": "mean.npp",
         "rawType": "float64",
         "type": "float"
        },
        {
         "name": "TT_market_hrs",
         "rawType": "float64",
         "type": "float"
        },
        {
         "name": "TT_pop_hrs",
         "rawType": "float64",
         "type": "float"
        },
        {
         "name": "cumDHW",
         "rawType": "float64",
         "type": "float"
        },
        {
         "name": "SST_Kurtosis",
         "rawType": "float64",
         "type": "float"
        },
        {
         "name": "SST_Median",
         "rawType": "float64",
         "type": "float"
        },
        {
         "name": "ChlorA_median",
         "rawType": "float64",
         "type": "float"
        },
        {
         "name": "andrello_sediments",
         "rawType": "float64",
         "type": "float"
        },
        {
         "name": "Current_vel_mean",
         "rawType": "float64",
         "type": "float"
        },
        {
         "name": "Diff_attenuation",
         "rawType": "float64",
         "type": "float"
        },
        {
         "name": "Grav_NP",
         "rawType": "float64",
         "type": "float"
        },
        {
         "name": "Grav_NC",
         "rawType": "float64",
         "type": "float"
        },
        {
         "name": "PH",
         "rawType": "float64",
         "type": "float"
        },
        {
         "name": "SST_bimodality",
         "rawType": "float64",
         "type": "float"
        },
        {
         "name": "SST_Skewness",
         "rawType": "float64",
         "type": "float"
        },
        {
         "name": "ClimateStressModel",
         "rawType": "float64",
         "type": "float"
        },
        {
         "name": "Netflow",
         "rawType": "float64",
         "type": "float"
        },
        {
         "name": "Indegree",
         "rawType": "float64",
         "type": "float"
        },
        {
         "name": "Outdegree",
         "rawType": "float64",
         "type": "float"
        },
        {
         "name": "Retention",
         "rawType": "float64",
         "type": "float"
        },
        {
         "name": "min_yr",
         "rawType": "int64",
         "type": "integer"
        },
        {
         "name": "max_yr",
         "rawType": "int64",
         "type": "integer"
        },
        {
         "name": "no_replicates",
         "rawType": "int64",
         "type": "integer"
        }
       ],
       "ref": "e5b1d93b-a110-4b38-8325-43f3c272fa66",
       "rows": [
        [
         "39",
         "220",
         "39.233916",
         "-6.658981",
         "17",
         "Tanzania",
         "East African Coral Coast",
         "UnfishedLow",
         "Slope",
         "Nyawira",
         "3.0",
         "50",
         "0.019705479",
         "54.49700165",
         "0.005484",
         "4.769500017",
         "2.580135584",
         "35.1159385",
         "1999",
         "5.461948395",
         "1225.299561",
         "0.55",
         "0.166666667",
         "31.30459372",
         "-1.050762614",
         "27.5125",
         "0.5363518",
         "376.6393738",
         "0.573046",
         "0.167499997",
         "2.088395343",
         "2482.528053",
         "8.215999603",
         "0.527900323",
         "-0.171422714",
         "0.621299982",
         "-0.443779163",
         "127.5",
         "62.25",
         "204.75",
         "2016",
         "2016",
         "1"
        ],
        [
         "40",
         "220",
         "39.233916",
         "-6.658981",
         "19",
         "Tanzania",
         "East African Coral Coast",
         "UnfishedLow",
         "Slope",
         "Tim",
         "2.833333333",
         "50",
         "0.019705479",
         "54.49700165",
         "0.005484",
         "4.769500017",
         "2.580135584",
         "35.1159385",
         "1999",
         "5.461948395",
         "1225.299561",
         "0.55",
         "0.166666667",
         "31.30459372",
         "-1.050762614",
         "27.5125",
         "0.5363518",
         "376.6393738",
         "0.573046",
         "0.167499997",
         "2.088395343",
         "2482.528053",
         "8.215999603",
         "0.527900323",
         "-0.171422714",
         "0.621299982",
         "-0.443779163",
         "127.5",
         "62.25",
         "204.75",
         "2012",
         "2019",
         "3"
        ],
        [
         "41",
         "221",
         "39.256374",
         "-6.658981",
         "25",
         "Tanzania",
         "East African Coral Coast",
         "UnfishedLow",
         "Lagoon/Back reef",
         "Nyawira",
         "10.0",
         "50",
         "0.019248292",
         "54.11725044",
         "0.00296375",
         "4.769250035",
         "2.580135584",
         "35.1230185",
         "1999",
         "5.461948395",
         "1225.299561",
         "0.55",
         "0.166666667",
         "30.42884776",
         "-1.048608532",
         "27.505",
         "0.471442617",
         "376.6393738",
         "0.67697875",
         "0.128749998",
         "2.088395343",
         "2482.528053",
         "8.215499878",
         "0.526911492",
         "-0.169093391",
         "0.52759999",
         "-0.443779163",
         "127.5",
         "62.25",
         "204.75",
         "2016",
         "2016",
         "1"
        ],
        [
         "42",
         "221",
         "39.256374",
         "-6.658981",
         "19",
         "Tanzania",
         "East African Coral Coast",
         "UnfishedLow",
         "Lagoon/Back reef",
         "Tim",
         "10.0",
         "50",
         "0.019248292",
         "54.11725044",
         "0.00296375",
         "4.769250035",
         "2.580135584",
         "35.1230185",
         "1999",
         "5.461948395",
         "1225.299561",
         "0.55",
         "0.166666667",
         "30.42884776",
         "-1.048608532",
         "27.505",
         "0.471442617",
         "376.6393738",
         "0.67697875",
         "0.128749998",
         "2.088395343",
         "2482.528053",
         "8.215499878",
         "0.526911492",
         "-0.169093391",
         "0.52759999",
         "-0.443779163",
         "127.5",
         "62.25",
         "204.75",
         "2016",
         "2016",
         "1"
        ],
        [
         "43",
         "221",
         "39.256374",
         "-6.658981",
         "12",
         "Tanzania",
         "East African Coral Coast",
         "UnfishedLow",
         "Lagoon/Back reef",
         "Nyawira",
         "3.0",
         "50",
         "0.019248292",
         "54.11725044",
         "0.00296375",
         "4.769250035",
         "2.580135584",
         "35.1230185",
         "1999",
         "5.461948395",
         "1225.299561",
         "0.55",
         "0.166666667",
         "30.42884776",
         "-1.048608532",
         "27.505",
         "0.471442617",
         "376.6393738",
         "0.67697875",
         "0.128749998",
         "2.088395343",
         "2482.528053",
         "8.215499878",
         "0.526911492",
         "-0.169093391",
         "0.52759999",
         "-0.443779163",
         "127.5",
         "62.25",
         "204.75",
         "2016",
         "2016",
         "1"
        ],
        [
         "44",
         "221",
         "39.256374",
         "-6.658981",
         "17",
         "Tanzania",
         "East African Coral Coast",
         "UnfishedLow",
         "Lagoon/Back reef",
         "Tim",
         "2.6",
         "50",
         "0.019248292",
         "54.11725044",
         "0.00296375",
         "4.769250035",
         "2.580135584",
         "35.1230185",
         "1999",
         "5.461948395",
         "1225.299561",
         "0.55",
         "0.166666667",
         "30.42884776",
         "-1.048608532",
         "27.505",
         "0.471442617",
         "376.6393738",
         "0.67697875",
         "0.128749998",
         "2.088395343",
         "2482.528053",
         "8.215499878",
         "0.526911492",
         "-0.169093391",
         "0.52759999",
         "-0.443779163",
         "127.5",
         "62.25",
         "204.75",
         "2005",
         "2019",
         "5"
        ],
        [
         "231",
         "3516",
         "48.666227",
         "-12.738864",
         "22",
         "Madagascar",
         "Western and Northern Madagascar",
         "UnfishedLow",
         "Slope",
         "Arielle",
         "7.666666667",
         "57",
         "0.017761724",
         "56.35149956",
         "0.0014145",
         "4.633499861",
         "0.266116649",
         "34.930576",
         "0",
         "0.014958816",
         "1717.145752",
         "3.666666667",
         "1.2",
         "28.53587429",
         "-1.223235192",
         "26.63",
         "0.57191956",
         "12.82741356",
         "0.413287",
         "0.111999996",
         "0.000582863",
         "1.708319668",
         "8.201000214",
         "0.583648065",
         "-0.193464355",
         "0.505150005",
         "0.452597021",
         "18.5",
         "72.5",
         "47.5",
         "2017",
         "2019",
         "3"
        ],
        [
         "232",
         "3516",
         "48.666227",
         "-12.738864",
         "17",
         "Madagascar",
         "Western and Northern Madagascar",
         "UnfishedLow",
         "Slope",
         "D'Agata",
         "6.0",
         "57",
         "0.017761724",
         "56.35149956",
         "0.0014145",
         "4.633499861",
         "0.266116649",
         "34.930576",
         "0",
         "0.014958816",
         "1717.145752",
         "3.666666667",
         "1.2",
         "28.53587429",
         "-1.223235192",
         "26.63",
         "0.57191956",
         "12.82741356",
         "0.413287",
         "0.111999996",
         "0.000582863",
         "1.708319668",
         "8.201000214",
         "0.583648065",
         "-0.193464355",
         "0.505150005",
         "0.452597021",
         "18.5",
         "72.5",
         "47.5",
         "2016",
         "2016",
         "2"
        ],
        [
         "233",
         "3516",
         "48.666227",
         "-12.738864",
         "20",
         "Madagascar",
         "Western and Northern Madagascar",
         "UnfishedLow",
         "Slope",
         "Julien",
         "6.0",
         "57",
         "0.017761724",
         "56.35149956",
         "0.0014145",
         "4.633499861",
         "0.266116649",
         "34.930576",
         "0",
         "0.014958816",
         "1717.145752",
         "3.666666667",
         "1.2",
         "28.53587429",
         "-1.223235192",
         "26.63",
         "0.57191956",
         "12.82741356",
         "0.413287",
         "0.111999996",
         "0.000582863",
         "1.708319668",
         "8.201000214",
         "0.583648065",
         "-0.193464355",
         "0.505150005",
         "0.452597021",
         "18.5",
         "72.5",
         "47.5",
         "2016",
         "2016",
         "1"
        ],
        [
         "234",
         "3516",
         "48.666227",
         "-12.738864",
         "36",
         "Madagascar",
         "Western and Northern Madagascar",
         "UnfishedLow",
         "Slope",
         "Nyawira",
         "13.0",
         "57",
         "0.017761724",
         "56.35149956",
         "0.0014145",
         "4.633499861",
         "0.266116649",
         "34.930576",
         "0",
         "0.014958816",
         "1717.145752",
         "3.666666667",
         "1.2",
         "28.53587429",
         "-1.223235192",
         "26.63",
         "0.57191956",
         "12.82741356",
         "0.413287",
         "0.111999996",
         "0.000582863",
         "1.708319668",
         "8.201000214",
         "0.583648065",
         "-0.193464355",
         "0.505150005",
         "0.452597021",
         "18.5",
         "72.5",
         "47.5",
         "2015",
         "2015",
         "1"
        ],
        [
         "235",
         "3596",
         "48.621311",
         "-12.893135",
         "25",
         "Madagascar",
         "Western and Northern Madagascar",
         "Fished",
         "Slope",
         "Nyawira",
         "6.0",
         "56",
         "0.019746005",
         "57.125",
         "0.000906",
         "4.625999928",
         "0.296538115",
         "34.855976",
         "0",
         "0.014223028",
         "1464.43335",
         "3.75",
         "0.65",
         "31.44200782",
         "-1.196871364",
         "28.29",
         "0.547290772",
         "38.07165909",
         "0.237931",
         "0.097000003",
         "0.001713197",
         "1.640836809",
         "8.201999664",
         "0.578291599",
         "-0.207733902",
         "0.686999977",
         "0.263875412",
         "34.5",
         "79.0",
         "105.0",
         "2011",
         "2011",
         "1"
        ],
        [
         "236",
         "3597",
         "48.643769",
         "-12.893135",
         "21",
         "Madagascar",
         "Western and Northern Madagascar",
         "Restricted",
         "Slope",
         "Arielle",
         "5.1",
         "56",
         "0.019953767",
         "57.125",
         "0.000906",
         "4.625999928",
         "0.296538115",
         "34.855976",
         "0",
         "0.014223028",
         "1464.43335",
         "3.75",
         "0.65",
         "31.170654",
         "-1.197780549",
         "28.33",
         "0.547290772",
         "38.07165909",
         "0.237931",
         "0.097000003",
         "0.001713197",
         "1.640836809",
         "8.201999664",
         "0.578557989",
         "-0.207624388",
         "0.623699993",
         "0.263875412",
         "34.5",
         "79.0",
         "105.0",
         "2017",
         "2019",
         "3"
        ],
        [
         "237",
         "3597",
         "48.643769",
         "-12.893135",
         "19",
         "Madagascar",
         "Western and Northern Madagascar",
         "Restricted",
         "Slope",
         "D'Agata",
         "4.0",
         "56",
         "0.019953767",
         "57.125",
         "0.000906",
         "4.625999928",
         "0.296538115",
         "34.855976",
         "0",
         "0.014223028",
         "1464.43335",
         "3.75",
         "0.65",
         "31.170654",
         "-1.197780549",
         "28.33",
         "0.547290772",
         "38.07165909",
         "0.237931",
         "0.097000003",
         "0.001713197",
         "1.640836809",
         "8.201999664",
         "0.578557989",
         "-0.207624388",
         "0.623699993",
         "0.263875412",
         "34.5",
         "79.0",
         "105.0",
         "2016",
         "2016",
         "1"
        ],
        [
         "238",
         "3597",
         "48.643769",
         "-12.893135",
         "19",
         "Madagascar",
         "Western and Northern Madagascar",
         "Restricted",
         "Slope",
         "D'Agata",
         "5.0",
         "56",
         "0.019953767",
         "57.125",
         "0.000906",
         "4.625999928",
         "0.296538115",
         "34.855976",
         "0",
         "0.014223028",
         "1464.43335",
         "3.75",
         "0.65",
         "31.170654",
         "-1.197780549",
         "28.33",
         "0.547290772",
         "38.07165909",
         "0.237931",
         "0.097000003",
         "0.001713197",
         "1.640836809",
         "8.201999664",
         "0.578557989",
         "-0.207624388",
         "0.623699993",
         "0.263875412",
         "34.5",
         "79.0",
         "105.0",
         "2016",
         "2016",
         "1"
        ],
        [
         "239",
         "3597",
         "48.643769",
         "-12.893135",
         "20",
         "Madagascar",
         "Western and Northern Madagascar",
         "UnfishedLow",
         "Slope",
         "Julien",
         "5.0",
         "56",
         "0.019953767",
         "57.125",
         "0.000906",
         "4.625999928",
         "0.296538115",
         "34.855976",
         "0",
         "0.014223028",
         "1464.43335",
         "3.75",
         "0.65",
         "31.170654",
         "-1.197780549",
         "28.33",
         "0.547290772",
         "38.07165909",
         "0.237931",
         "0.097000003",
         "0.001713197",
         "1.640836809",
         "8.201999664",
         "0.578557989",
         "-0.207624388",
         "0.623699993",
         "0.263875412",
         "34.5",
         "79.0",
         "105.0",
         "2016",
         "2016",
         "1"
        ],
        [
         "240",
         "3597",
         "48.643769",
         "-12.893135",
         "23",
         "Madagascar",
         "Western and Northern Madagascar",
         "UnfishedLow",
         "Slope",
         "Nyawira",
         "3.5",
         "56",
         "0.019953767",
         "57.125",
         "0.000906",
         "4.625999928",
         "0.296538115",
         "34.855976",
         "0",
         "0.014223028",
         "1464.43335",
         "3.75",
         "0.65",
         "31.170654",
         "-1.197780549",
         "28.33",
         "0.547290772",
         "38.07165909",
         "0.237931",
         "0.097000003",
         "0.001713197",
         "1.640836809",
         "8.201999664",
         "0.578557989",
         "-0.207624388",
         "0.623699993",
         "0.263875412",
         "34.5",
         "79.0",
         "105.0",
         "2015",
         "2015",
         "1"
        ],
        [
         "241",
         "3598",
         "48.553937",
         "-12.915165",
         "26",
         "Madagascar",
         "Western and Northern Madagascar",
         "Restricted",
         "Lagoon/Back reef",
         "Nyawira",
         "2.0",
         "58",
         "0.019722948",
         "56.98600006",
         "0.000741",
         "4.624500036",
         "0.10843794",
         "34.920881",
         "1",
         "0.001852436",
         "1353.876709",
         "4.2",
         "0.533333333",
         "25.96767431",
         "-1.194960542",
         "28.34",
         "0.513394997",
         "2.625585079",
         "0.230629",
         "0.096000001",
         "0.001007811",
         "1.30784488",
         "8.201499939",
         "0.578412665",
         "-0.210895718",
         "0.599925011",
         "-0.2520478",
         "144.5",
         "101.5",
         "19.25",
         "2011",
         "2011",
         "2"
        ],
        [
         "242",
         "3600",
         "48.598853",
         "-12.915165",
         "23",
         "Madagascar",
         "Western and Northern Madagascar",
         "Restricted",
         "Slope",
         "Arielle",
         "3.766666667",
         "57",
         "0.020134163",
         "57.21150017",
         "0.001011",
         "4.624500036",
         "0.402027845",
         "34.8724115",
         "0",
         "0.006128008",
         "1353.876709",
         "3.75",
         "0.65",
         "30.66372392",
         "-1.192603979",
         "28.355",
         "0.553855032",
         "6.236976147",
         "0.1666215",
         "0.0995",
         "0.001713197",
         "1.640836809",
         "8.201999664",
         "0.577651345",
         "-0.210863726",
         "0.648724988",
         "0.263875412",
         "34.5",
         "79.0",
         "105.0",
         "2017",
         "2019",
         "3"
        ],
        [
         "243",
         "3600",
         "48.598853",
         "-12.915165",
         "14",
         "Madagascar",
         "Western and Northern Madagascar",
         "Restricted",
         "Slope",
         "D'Agata",
         "3.0",
         "57",
         "0.020134163",
         "57.21150017",
         "0.001011",
         "4.624500036",
         "0.402027845",
         "34.8724115",
         "0",
         "0.006128008",
         "1353.876709",
         "3.75",
         "0.65",
         "30.66372392",
         "-1.192603979",
         "28.355",
         "0.553855032",
         "6.236976147",
         "0.1666215",
         "0.0995",
         "0.001713197",
         "1.640836809",
         "8.201999664",
         "0.577651345",
         "-0.210863726",
         "0.648724988",
         "0.263875412",
         "34.5",
         "79.0",
         "105.0",
         "2016",
         "2016",
         "2"
        ],
        [
         "244",
         "3600",
         "48.598853",
         "-12.915165",
         "20",
         "Madagascar",
         "Western and Northern Madagascar",
         "Restricted",
         "Slope",
         "Julien",
         "3.0",
         "57",
         "0.020134163",
         "57.21150017",
         "0.001011",
         "4.624500036",
         "0.402027845",
         "34.8724115",
         "0",
         "0.006128008",
         "1353.876709",
         "3.75",
         "0.65",
         "30.66372392",
         "-1.192603979",
         "28.355",
         "0.553855032",
         "6.236976147",
         "0.1666215",
         "0.0995",
         "0.001713197",
         "1.640836809",
         "8.201999664",
         "0.577651345",
         "-0.210863726",
         "0.648724988",
         "0.263875412",
         "34.5",
         "79.0",
         "105.0",
         "2016",
         "2016",
         "1"
        ],
        [
         "245",
         "3602",
         "48.576395",
         "-12.937194",
         "20",
         "Madagascar",
         "Western and Northern Madagascar",
         "Restricted",
         "Slope",
         "Arielle",
         "5.466666667",
         "59",
         "0.019945205",
         "57.30500031",
         "0.001076",
         "4.623000145",
         "0.370669931",
         "34.9042585",
         "0",
         "0.006128008",
         "1353.876709",
         "4.2",
         "0.533333333",
         "27.81005637",
         "-1.193308873",
         "28.4",
         "0.541542634",
         "6.236976147",
         "0.1524715",
         "0.105999999",
         "0.001007811",
         "1.30784488",
         "8.201999664",
         "0.577880853",
         "-0.210881824",
         "0.601400018",
         "0.263875412",
         "34.5",
         "79.0",
         "105.0",
         "2017",
         "2019",
         "3"
        ],
        [
         "246",
         "3602",
         "48.576395",
         "-12.937194",
         "14",
         "Madagascar",
         "Western and Northern Madagascar",
         "Restricted",
         "Slope",
         "D'Agata",
         "4.5",
         "59",
         "0.019945205",
         "57.30500031",
         "0.001076",
         "4.623000145",
         "0.370669931",
         "34.9042585",
         "0",
         "0.006128008",
         "1353.876709",
         "4.2",
         "0.533333333",
         "27.81005637",
         "-1.193308873",
         "28.4",
         "0.541542634",
         "6.236976147",
         "0.1524715",
         "0.105999999",
         "0.001007811",
         "1.30784488",
         "8.201999664",
         "0.577880853",
         "-0.210881824",
         "0.601400018",
         "0.263875412",
         "34.5",
         "79.0",
         "105.0",
         "2016",
         "2016",
         "2"
        ],
        [
         "247",
         "3602",
         "48.576395",
         "-12.937194",
         "14",
         "Madagascar",
         "Western and Northern Madagascar",
         "Restricted",
         "Slope",
         "Julien",
         "4.0",
         "59",
         "0.019945205",
         "57.30500031",
         "0.001076",
         "4.623000145",
         "0.370669931",
         "34.9042585",
         "0",
         "0.006128008",
         "1353.876709",
         "4.2",
         "0.533333333",
         "27.81005637",
         "-1.193308873",
         "28.4",
         "0.541542634",
         "6.236976147",
         "0.1524715",
         "0.105999999",
         "0.001007811",
         "1.30784488",
         "8.201999664",
         "0.577880853",
         "-0.210881824",
         "0.601400018",
         "0.263875412",
         "34.5",
         "79.0",
         "105.0",
         "2016",
         "2016",
         "1"
        ],
        [
         "248",
         "3607",
         "48.509022",
         "-12.981246",
         "30",
         "Madagascar",
         "Western and Northern Madagascar",
         "UnfishedLow",
         "Lagoon/Back reef",
         "Nyawira",
         "12.0",
         "56",
         "0.020058018",
         "57.09149933",
         "0.000718",
         "4.623500109",
         "0.51159972",
         "34.922123",
         "4",
         "0.000906675",
         "1292.011963",
         "4.416666667",
         "0.983333333",
         "21.38488494",
         "-1.188512113",
         "28.4",
         "0.402933657",
         "0.109813735",
         "0.257932",
         "0.094500002",
         "0.000285067",
         "1.176641214",
         "8.201999664",
         "0.577958671",
         "-0.217678942",
         "0.534100026",
         "0.642287824",
         "7.0",
         "77.0",
         "35.5",
         "2015",
         "2015",
         "1"
        ],
        [
         "249",
         "3610",
         "48.576395",
         "-12.981246",
         "21",
         "Madagascar",
         "Western and Northern Madagascar",
         "UnfishedLow",
         "Slope",
         "Arielle",
         "5.133333333",
         "58",
         "0.020546334",
         "57.30500031",
         "0.001076",
         "4.623000145",
         "0.339312047",
         "34.9042585",
         "12",
         "0.010967685",
         "1334.251709",
         "4.416666667",
         "0.983333333",
         "29.66013098",
         "-1.182352753",
         "28.365",
         "0.484667107",
         "17.50260925",
         "0.1524715",
         "0.105999999",
         "0.000285067",
         "1.176641214",
         "8.201999664",
         "0.576083886",
         "-0.218025047",
         "0.548399985",
         "-0.197482013",
         "146.25",
         "85.25",
         "20.75",
         "2017",
         "2019",
         "3"
        ],
        [
         "250",
         "3610",
         "48.576395",
         "-12.981246",
         "16",
         "Madagascar",
         "Western and Northern Madagascar",
         "UnfishedLow",
         "Slope",
         "D'Agata",
         "5.5",
         "58",
         "0.020546334",
         "57.30500031",
         "0.001076",
         "4.623000145",
         "0.339312047",
         "34.9042585",
         "12",
         "0.010967685",
         "1334.251709",
         "4.416666667",
         "0.983333333",
         "29.66013098",
         "-1.182352753",
         "28.365",
         "0.484667107",
         "17.50260925",
         "0.1524715",
         "0.105999999",
         "0.000285067",
         "1.176641214",
         "8.201999664",
         "0.576083886",
         "-0.218025047",
         "0.548399985",
         "-0.197482013",
         "146.25",
         "85.25",
         "20.75",
         "2016",
         "2016",
         "2"
        ],
        [
         "251",
         "3610",
         "48.576395",
         "-12.981246",
         "16",
         "Madagascar",
         "Western and Northern Madagascar",
         "UnfishedLow",
         "Slope",
         "Julien",
         "7.0",
         "58",
         "0.020546334",
         "57.30500031",
         "0.001076",
         "4.623000145",
         "0.339312047",
         "34.9042585",
         "12",
         "0.010967685",
         "1334.251709",
         "4.416666667",
         "0.983333333",
         "29.66013098",
         "-1.182352753",
         "28.365",
         "0.484667107",
         "17.50260925",
         "0.1524715",
         "0.105999999",
         "0.000285067",
         "1.176641214",
         "8.201999664",
         "0.576083886",
         "-0.218025047",
         "0.548399985",
         "-0.197482013",
         "146.25",
         "85.25",
         "20.75",
         "2016",
         "2016",
         "1"
        ],
        [
         "252",
         "3610",
         "48.576395",
         "-12.981246",
         "22",
         "Madagascar",
         "Western and Northern Madagascar",
         "UnfishedLow",
         "Slope",
         "Nyawira",
         "4.5",
         "58",
         "0.020546334",
         "57.30500031",
         "0.001076",
         "4.623000145",
         "0.339312047",
         "34.9042585",
         "12",
         "0.010967685",
         "1334.251709",
         "4.416666667",
         "0.983333333",
         "29.66013098",
         "-1.182352753",
         "28.365",
         "0.484667107",
         "17.50260925",
         "0.1524715",
         "0.105999999",
         "0.000285067",
         "1.176641214",
         "8.201999664",
         "0.576083886",
         "-0.218025047",
         "0.548399985",
         "-0.197482013",
         "146.25",
         "85.25",
         "20.75",
         "2015",
         "2015",
         "1"
        ],
        [
         "253",
         "3614",
         "48.509022",
         "-13.003269",
         "22",
         "Madagascar",
         "Western and Northern Madagascar",
         "Restricted",
         "Slope",
         "Nyawira",
         "7.0",
         "56",
         "0.020440847",
         "57.09974957",
         "0.00060475",
         "4.621999979",
         "0.472378224",
         "34.9109565",
         "4",
         "0.000906675",
         "1292.011963",
         "4.416666667",
         "0.983333333",
         "21.80671367",
         "-1.183183853",
         "28.37",
         "0.397450477",
         "0.109813735",
         "0.21492",
         "0.096250001",
         "0.000285067",
         "1.176641214",
         "8.201999664",
         "0.57719667",
         "-0.221537057",
         "0.534125015",
         "0.642287824",
         "7.0",
         "77.0",
         "35.5",
         "2011",
         "2011",
         "2"
        ],
        [
         "254",
         "3616",
         "48.553937",
         "-13.003269",
         "16",
         "Madagascar",
         "Western and Northern Madagascar",
         "Restricted",
         "Slope",
         "Arielle",
         "4.233333333",
         "59",
         "0.021013699",
         "57.26600075",
         "0.0008325",
         "4.621500015",
         "0.396039158",
         "34.9045295",
         "11",
         "0.003343396",
         "1292.011963",
         "4.416666667",
         "0.983333333",
         "26.07964773",
         "-1.178934949",
         "28.22666667",
         "0.483593144",
         "0.431542754",
         "0.1964365",
         "0.112",
         "0.000285067",
         "1.176641214",
         "8.201999664",
         "0.575947045",
         "-0.2219337",
         "0.556475013",
         "0.642287824",
         "7.0",
         "77.0",
         "35.5",
         "2017",
         "2019",
         "3"
        ],
        [
         "255",
         "3616",
         "48.553937",
         "-13.003269",
         "16",
         "Madagascar",
         "Western and Northern Madagascar",
         "Restricted",
         "Slope",
         "D'Agata",
         "4.0",
         "59",
         "0.021013699",
         "57.26600075",
         "0.0008325",
         "4.621500015",
         "0.396039158",
         "34.9045295",
         "11",
         "0.003343396",
         "1292.011963",
         "4.416666667",
         "0.983333333",
         "26.07964773",
         "-1.178934949",
         "28.22666667",
         "0.483593144",
         "0.431542754",
         "0.1964365",
         "0.112",
         "0.000285067",
         "1.176641214",
         "8.201999664",
         "0.575947045",
         "-0.2219337",
         "0.556475013",
         "0.642287824",
         "7.0",
         "77.0",
         "35.5",
         "2016",
         "2016",
         "2"
        ],
        [
         "256",
         "3616",
         "48.553937",
         "-13.003269",
         "17",
         "Madagascar",
         "Western and Northern Madagascar",
         "Restricted",
         "Slope",
         "Julien",
         "4.0",
         "59",
         "0.021013699",
         "57.26600075",
         "0.0008325",
         "4.621500015",
         "0.396039158",
         "34.9045295",
         "11",
         "0.003343396",
         "1292.011963",
         "4.416666667",
         "0.983333333",
         "26.07964773",
         "-1.178934949",
         "28.22666667",
         "0.483593144",
         "0.431542754",
         "0.1964365",
         "0.112",
         "0.000285067",
         "1.176641214",
         "8.201999664",
         "0.575947045",
         "-0.2219337",
         "0.556475013",
         "0.642287824",
         "7.0",
         "77.0",
         "35.5",
         "2016",
         "2016",
         "1"
        ],
        [
         "257",
         "3621",
         "48.531479",
         "-13.02529",
         "24",
         "Madagascar",
         "Western and Northern Madagascar",
         "Restricted",
         "Slope",
         "Arielle",
         "7.266666667",
         "60",
         "0.021497717",
         "57.22000122",
         "0.000629",
         "4.619999886",
         "0.396039158",
         "34.889389",
         "12",
         "0.004082459",
         "1292.011963",
         "4.416666667",
         "0.983333333",
         "24.7184039",
         "-1.174524811",
         "28.365",
         "0.420066118",
         "0.017798122",
         "0.183242",
         "0.114",
         "0.000285067",
         "1.176641214",
         "8.201999664",
         "0.575479888",
         "-0.225702131",
         "0.549300015",
         "0.815634589",
         "2.5",
         "57.25",
         "317.75",
         "2017",
         "2019",
         "3"
        ],
        [
         "258",
         "3621",
         "48.531479",
         "-13.02529",
         "21",
         "Madagascar",
         "Western and Northern Madagascar",
         "Restricted",
         "Slope",
         "D'Agata",
         "9.5",
         "60",
         "0.021497717",
         "57.22000122",
         "0.000629",
         "4.619999886",
         "0.396039158",
         "34.889389",
         "12",
         "0.004082459",
         "1292.011963",
         "4.416666667",
         "0.983333333",
         "24.7184039",
         "-1.174524811",
         "28.365",
         "0.420066118",
         "0.017798122",
         "0.183242",
         "0.114",
         "0.000285067",
         "1.176641214",
         "8.201999664",
         "0.575479888",
         "-0.225702131",
         "0.549300015",
         "0.815634589",
         "2.5",
         "57.25",
         "317.75",
         "2016",
         "2016",
         "2"
        ],
        [
         "259",
         "3621",
         "48.531479",
         "-13.02529",
         "23",
         "Madagascar",
         "Western and Northern Madagascar",
         "Restricted",
         "Slope",
         "Julien",
         "7.0",
         "60",
         "0.021497717",
         "57.22000122",
         "0.000629",
         "4.619999886",
         "0.396039158",
         "34.889389",
         "12",
         "0.004082459",
         "1292.011963",
         "4.416666667",
         "0.983333333",
         "24.7184039",
         "-1.174524811",
         "28.365",
         "0.420066118",
         "0.017798122",
         "0.183242",
         "0.114",
         "0.000285067",
         "1.176641214",
         "8.201999664",
         "0.575479888",
         "-0.225702131",
         "0.549300015",
         "0.815634589",
         "2.5",
         "57.25",
         "317.75",
         "2016",
         "2016",
         "1"
        ],
        [
         "260",
         "3621",
         "48.531479",
         "-13.02529",
         "30",
         "Madagascar",
         "Western and Northern Madagascar",
         "UnfishedLow",
         "Flat",
         "Nyawira",
         "8.0",
         "60",
         "0.021497717",
         "57.22000122",
         "0.000629",
         "4.619999886",
         "0.396039158",
         "34.889389",
         "12",
         "0.004082459",
         "1292.011963",
         "4.416666667",
         "0.983333333",
         "24.7184039",
         "-1.174524811",
         "28.365",
         "0.420066118",
         "0.017798122",
         "0.183242",
         "0.114",
         "0.000285067",
         "1.176641214",
         "8.201999664",
         "0.575479888",
         "-0.225702131",
         "0.549300015",
         "0.815634589",
         "2.5",
         "57.25",
         "317.75",
         "2015",
         "2015",
         "1"
        ],
        [
         "261",
         "3621",
         "48.531479",
         "-13.02529",
         "32",
         "Madagascar",
         "Western and Northern Madagascar",
         "UnfishedLow",
         "Slope",
         "Tim",
         "10.5",
         "60",
         "0.021497717",
         "57.22000122",
         "0.000629",
         "4.619999886",
         "0.396039158",
         "34.889389",
         "12",
         "0.004082459",
         "1292.011963",
         "4.416666667",
         "0.983333333",
         "24.7184039",
         "-1.174524811",
         "28.365",
         "0.420066118",
         "0.017798122",
         "0.183242",
         "0.114",
         "0.000285067",
         "1.176641214",
         "8.201999664",
         "0.575479888",
         "-0.225702131",
         "0.549300015",
         "0.815634589",
         "2.5",
         "57.25",
         "317.75",
         "2009",
         "2009",
         "2"
        ],
        [
         "262",
         "3621",
         "48.531479",
         "-13.02529",
         "25",
         "Madagascar",
         "Western and Northern Madagascar",
         "UnfishedLow",
         "Slope",
         "Nyawira",
         "8.0",
         "60",
         "0.021497717",
         "57.22000122",
         "0.000629",
         "4.619999886",
         "0.396039158",
         "34.889389",
         "12",
         "0.004082459",
         "1292.011963",
         "4.416666667",
         "0.983333333",
         "24.7184039",
         "-1.174524811",
         "28.365",
         "0.420066118",
         "0.017798122",
         "0.183242",
         "0.114",
         "0.000285067",
         "1.176641214",
         "8.201999664",
         "0.575479888",
         "-0.225702131",
         "0.549300015",
         "0.815634589",
         "2.5",
         "57.25",
         "317.75",
         "2015",
         "2015",
         "1"
        ],
        [
         "263",
         "3622",
         "48.553937",
         "-13.02529",
         "24",
         "Madagascar",
         "Western and Northern Madagascar",
         "UnfishedLow",
         "Slope",
         "Arielle",
         "9.366666667",
         "60",
         "0.021805175",
         "57.22000122",
         "0.000629",
         "4.619999886",
         "0.396039158",
         "34.889389",
         "12",
         "0.004082459",
         "1292.011963",
         "4.416666667",
         "0.983333333",
         "26.23298441",
         "-1.172783264",
         "28.245",
         "0.465784222",
         "0.017798122",
         "0.183242",
         "0.114",
         "0.000285067",
         "1.176641214",
         "8.201999664",
         "0.574944602",
         "-0.225754745",
         "0.564600021",
         "0.815634589",
         "2.5",
         "57.25",
         "317.75",
         "2017",
         "2019",
         "3"
        ],
        [
         "264",
         "3622",
         "48.553937",
         "-13.02529",
         "20",
         "Madagascar",
         "Western and Northern Madagascar",
         "UnfishedLow",
         "Slope",
         "D'Agata",
         "6.0",
         "60",
         "0.021805175",
         "57.22000122",
         "0.000629",
         "4.619999886",
         "0.396039158",
         "34.889389",
         "12",
         "0.004082459",
         "1292.011963",
         "4.416666667",
         "0.983333333",
         "26.23298441",
         "-1.172783264",
         "28.245",
         "0.465784222",
         "0.017798122",
         "0.183242",
         "0.114",
         "0.000285067",
         "1.176641214",
         "8.201999664",
         "0.574944602",
         "-0.225754745",
         "0.564600021",
         "0.815634589",
         "2.5",
         "57.25",
         "317.75",
         "2016",
         "2016",
         "2"
        ],
        [
         "265",
         "3622",
         "48.553937",
         "-13.02529",
         "23",
         "Madagascar",
         "Western and Northern Madagascar",
         "UnfishedLow",
         "Slope",
         "Julien",
         "5.0",
         "60",
         "0.021805175",
         "57.22000122",
         "0.000629",
         "4.619999886",
         "0.396039158",
         "34.889389",
         "12",
         "0.004082459",
         "1292.011963",
         "4.416666667",
         "0.983333333",
         "26.23298441",
         "-1.172783264",
         "28.245",
         "0.465784222",
         "0.017798122",
         "0.183242",
         "0.114",
         "0.000285067",
         "1.176641214",
         "8.201999664",
         "0.574944602",
         "-0.225754745",
         "0.564600021",
         "0.815634589",
         "2.5",
         "57.25",
         "317.75",
         "2016",
         "2016",
         "1"
        ],
        [
         "266",
         "3623",
         "48.553937",
         "-13.047309",
         "30",
         "Madagascar",
         "Western and Northern Madagascar",
         "UnfishedLow",
         "Slope",
         "Nyawira",
         "7.0",
         "60",
         "0.021970997",
         "57.22000122",
         "0.000629",
         "4.619999886",
         "0.375304818",
         "34.889389",
         "12",
         "0.004082459",
         "1292.011963",
         "4.516666667",
         "1.483333333",
         "26.5005545",
         "-1.167078417",
         "28.27",
         "0.442909129",
         "0.017798122",
         "0.183242",
         "0.114",
         "0.000124881",
         "1.126783645",
         "8.201999664",
         "0.574053014",
         "-0.229369391",
         "0.547200009",
         "0.815634589",
         "2.5",
         "57.25",
         "317.75",
         "2015",
         "2015",
         "1"
        ],
        [
         "267",
         "3667",
         "48.351816",
         "-13.421327",
         "26",
         "Madagascar",
         "Western and Northern Madagascar",
         "Restricted",
         "Lagoon/Back reef",
         "Nyawira",
         "1.5",
         "54",
         "0.027391034",
         "57.56099892",
         "0.001393",
         "4.623000145",
         "0.032198761",
         "34.8097115",
         "432",
         "0.082529649",
         "1250.028076",
         "4.766666667",
         "0.183333333",
         "24.12823282",
         "-1.061738146",
         "28.31",
         "0.845813543",
         "99.43349457",
         "0.04896",
         "0.167999998",
         "0.030323319",
         "1.011635065",
         "8.202499866",
         "0.557486168",
         "-0.284531759",
         "0.665799975",
         "0.346598198",
         "39.0",
         "39.25",
         "103.25",
         "2007",
         "2007",
         "4"
        ],
        [
         "268",
         "3683",
         "48.239527",
         "-13.487269",
         "21",
         "Madagascar",
         "Western and Northern Madagascar",
         "UnfishedHigh",
         "Slope",
         "Nyawira",
         "10.0",
         "57",
         "0.025986721",
         "57.32849884",
         "0.000668",
         "4.622499943",
         "0.124907553",
         "34.838764",
         "23",
         "0.070187733",
         "1351.801636",
         "5.1",
         "0.15",
         "20.52008669",
         "-1.076241597",
         "28.17",
         "0.401021853",
         "151.2584534",
         "0.0487195",
         "0.107500002",
         "0.01410502",
         "0.887480415",
         "8.202499866",
         "0.55970957",
         "-0.277762037",
         "0.600024998",
         "0.346598198",
         "39.0",
         "39.25",
         "103.25",
         "2007",
         "2007",
         "4"
        ],
        [
         "269",
         "3683",
         "48.239527",
         "-13.487269",
         "22",
         "Madagascar",
         "Western and Northern Madagascar",
         "UnfishedLow",
         "Slope",
         "Nyawira",
         "10.0",
         "57",
         "0.025986721",
         "57.32849884",
         "0.000668",
         "4.622499943",
         "0.124907553",
         "34.838764",
         "23",
         "0.070187733",
         "1351.801636",
         "5.1",
         "0.15",
         "20.52008669",
         "-1.076241597",
         "28.17",
         "0.401021853",
         "151.2584534",
         "0.0487195",
         "0.107500002",
         "0.01410502",
         "0.887480415",
         "8.202499866",
         "0.55970957",
         "-0.277762037",
         "0.600024998",
         "0.346598198",
         "39.0",
         "39.25",
         "103.25",
         "2007",
         "2007",
         "2"
        ],
        [
         "270",
         "3961",
         "48.598853",
         "-12.82703",
         "17",
         "Madagascar",
         "Western and Northern Madagascar",
         "Fished",
         "Lagoon/Back reef",
         "Nyawira",
         "2.5",
         "58",
         "0.019657534",
         "57.13899994",
         "0.001",
         "4.628000021",
         "0.463514537",
         "34.8884715",
         "0",
         "0.004011265",
         "1444.493896",
         "3.516666667",
         "0.65",
         "28.83052633",
         "-1.210413446",
         "28.11",
         "0.501523316",
         "3.20421505",
         "0.270607",
         "0.115000002",
         "0.001998678",
         "1.860151613",
         "8.201499939",
         "0.580865624",
         "-0.199825944",
         "0.552474998",
         "0.263875412",
         "34.5",
         "79.0",
         "105.0",
         "2011",
         "2011",
         "1"
        ],
        [
         "271",
         "3961",
         "48.598853",
         "-12.82703",
         "28",
         "Madagascar",
         "Western and Northern Madagascar",
         "Restricted",
         "Slope",
         "Nyawira",
         "5.0",
         "58",
         "0.019657534",
         "57.13899994",
         "0.001",
         "4.628000021",
         "0.463514537",
         "34.8884715",
         "0",
         "0.004011265",
         "1444.493896",
         "3.516666667",
         "0.65",
         "28.83052633",
         "-1.210413446",
         "28.11",
         "0.501523316",
         "3.20421505",
         "0.270607",
         "0.115000002",
         "0.001998678",
         "1.860151613",
         "8.201499939",
         "0.580865624",
         "-0.199825944",
         "0.552474998",
         "0.263875412",
         "34.5",
         "79.0",
         "105.0",
         "2011",
         "2011",
         "1"
        ],
        [
         "272",
         "3961",
         "48.598853",
         "-12.82703",
         "26",
         "Madagascar",
         "Western and Northern Madagascar",
         "UnfishedLow",
         "Slope",
         "Arielle",
         "5.333333333",
         "58",
         "0.019657534",
         "57.13899994",
         "0.001",
         "4.628000021",
         "0.463514537",
         "34.8884715",
         "0",
         "0.004011265",
         "1444.493896",
         "3.516666667",
         "0.65",
         "28.83052633",
         "-1.210413446",
         "28.11",
         "0.501523316",
         "3.20421505",
         "0.270607",
         "0.115000002",
         "0.001998678",
         "1.860151613",
         "8.201499939",
         "0.580865624",
         "-0.199825944",
         "0.552474998",
         "0.263875412",
         "34.5",
         "79.0",
         "105.0",
         "2017",
         "2019",
         "3"
        ],
        [
         "273",
         "3961",
         "48.598853",
         "-12.82703",
         "19",
         "Madagascar",
         "Western and Northern Madagascar",
         "UnfishedLow",
         "Slope",
         "D'Agata",
         "4.5",
         "58",
         "0.019657534",
         "57.13899994",
         "0.001",
         "4.628000021",
         "0.463514537",
         "34.8884715",
         "0",
         "0.004011265",
         "1444.493896",
         "3.516666667",
         "0.65",
         "28.83052633",
         "-1.210413446",
         "28.11",
         "0.501523316",
         "3.20421505",
         "0.270607",
         "0.115000002",
         "0.001998678",
         "1.860151613",
         "8.201499939",
         "0.580865624",
         "-0.199825944",
         "0.552474998",
         "0.263875412",
         "34.5",
         "79.0",
         "105.0",
         "2016",
         "2016",
         "2"
        ],
        [
         "274",
         "3961",
         "48.598853",
         "-12.82703",
         "21",
         "Madagascar",
         "Western and Northern Madagascar",
         "UnfishedLow",
         "Slope",
         "Julien",
         "4.0",
         "58",
         "0.019657534",
         "57.13899994",
         "0.001",
         "4.628000021",
         "0.463514537",
         "34.8884715",
         "0",
         "0.004011265",
         "1444.493896",
         "3.516666667",
         "0.65",
         "28.83052633",
         "-1.210413446",
         "28.11",
         "0.501523316",
         "3.20421505",
         "0.270607",
         "0.115000002",
         "0.001998678",
         "1.860151613",
         "8.201499939",
         "0.580865624",
         "-0.199825944",
         "0.552474998",
         "0.263875412",
         "34.5",
         "79.0",
         "105.0",
         "2016",
         "2016",
         "1"
        ]
       ],
       "shape": {
        "columns": 42,
        "rows": 67
       }
      },
      "text/html": [
       "<div>\n",
       "<style scoped>\n",
       "    .dataframe tbody tr th:only-of-type {\n",
       "        vertical-align: middle;\n",
       "    }\n",
       "\n",
       "    .dataframe tbody tr th {\n",
       "        vertical-align: top;\n",
       "    }\n",
       "\n",
       "    .dataframe thead th {\n",
       "        text-align: right;\n",
       "    }\n",
       "</style>\n",
       "<table border=\"1\" class=\"dataframe\">\n",
       "  <thead>\n",
       "    <tr style=\"text-align: right;\">\n",
       "      <th></th>\n",
       "      <th>PU_ID</th>\n",
       "      <th>PU_Lat</th>\n",
       "      <th>PU_Lon</th>\n",
       "      <th>Number_of_genera</th>\n",
       "      <th>Country</th>\n",
       "      <th>Ecoregion</th>\n",
       "      <th>Management</th>\n",
       "      <th>Habitat</th>\n",
       "      <th>Observer</th>\n",
       "      <th>Depth</th>\n",
       "      <th>...</th>\n",
       "      <th>SST_bimodality</th>\n",
       "      <th>SST_Skewness</th>\n",
       "      <th>ClimateStressModel</th>\n",
       "      <th>Netflow</th>\n",
       "      <th>Indegree</th>\n",
       "      <th>Outdegree</th>\n",
       "      <th>Retention</th>\n",
       "      <th>min_yr</th>\n",
       "      <th>max_yr</th>\n",
       "      <th>no_replicates</th>\n",
       "    </tr>\n",
       "  </thead>\n",
       "  <tbody>\n",
       "    <tr>\n",
       "      <th>39</th>\n",
       "      <td>220</td>\n",
       "      <td>39.233916</td>\n",
       "      <td>-6.658981</td>\n",
       "      <td>17</td>\n",
       "      <td>Tanzania</td>\n",
       "      <td>East African Coral Coast</td>\n",
       "      <td>UnfishedLow</td>\n",
       "      <td>Slope</td>\n",
       "      <td>Nyawira</td>\n",
       "      <td>3.000000</td>\n",
       "      <td>...</td>\n",
       "      <td>0.527900</td>\n",
       "      <td>-0.171423</td>\n",
       "      <td>0.62130</td>\n",
       "      <td>-0.443779</td>\n",
       "      <td>127.50</td>\n",
       "      <td>62.25</td>\n",
       "      <td>204.75</td>\n",
       "      <td>2016</td>\n",
       "      <td>2016</td>\n",
       "      <td>1</td>\n",
       "    </tr>\n",
       "    <tr>\n",
       "      <th>40</th>\n",
       "      <td>220</td>\n",
       "      <td>39.233916</td>\n",
       "      <td>-6.658981</td>\n",
       "      <td>19</td>\n",
       "      <td>Tanzania</td>\n",
       "      <td>East African Coral Coast</td>\n",
       "      <td>UnfishedLow</td>\n",
       "      <td>Slope</td>\n",
       "      <td>Tim</td>\n",
       "      <td>2.833333</td>\n",
       "      <td>...</td>\n",
       "      <td>0.527900</td>\n",
       "      <td>-0.171423</td>\n",
       "      <td>0.62130</td>\n",
       "      <td>-0.443779</td>\n",
       "      <td>127.50</td>\n",
       "      <td>62.25</td>\n",
       "      <td>204.75</td>\n",
       "      <td>2012</td>\n",
       "      <td>2019</td>\n",
       "      <td>3</td>\n",
       "    </tr>\n",
       "    <tr>\n",
       "      <th>41</th>\n",
       "      <td>221</td>\n",
       "      <td>39.256374</td>\n",
       "      <td>-6.658981</td>\n",
       "      <td>25</td>\n",
       "      <td>Tanzania</td>\n",
       "      <td>East African Coral Coast</td>\n",
       "      <td>UnfishedLow</td>\n",
       "      <td>Lagoon/Back reef</td>\n",
       "      <td>Nyawira</td>\n",
       "      <td>10.000000</td>\n",
       "      <td>...</td>\n",
       "      <td>0.526911</td>\n",
       "      <td>-0.169093</td>\n",
       "      <td>0.52760</td>\n",
       "      <td>-0.443779</td>\n",
       "      <td>127.50</td>\n",
       "      <td>62.25</td>\n",
       "      <td>204.75</td>\n",
       "      <td>2016</td>\n",
       "      <td>2016</td>\n",
       "      <td>1</td>\n",
       "    </tr>\n",
       "    <tr>\n",
       "      <th>42</th>\n",
       "      <td>221</td>\n",
       "      <td>39.256374</td>\n",
       "      <td>-6.658981</td>\n",
       "      <td>19</td>\n",
       "      <td>Tanzania</td>\n",
       "      <td>East African Coral Coast</td>\n",
       "      <td>UnfishedLow</td>\n",
       "      <td>Lagoon/Back reef</td>\n",
       "      <td>Tim</td>\n",
       "      <td>10.000000</td>\n",
       "      <td>...</td>\n",
       "      <td>0.526911</td>\n",
       "      <td>-0.169093</td>\n",
       "      <td>0.52760</td>\n",
       "      <td>-0.443779</td>\n",
       "      <td>127.50</td>\n",
       "      <td>62.25</td>\n",
       "      <td>204.75</td>\n",
       "      <td>2016</td>\n",
       "      <td>2016</td>\n",
       "      <td>1</td>\n",
       "    </tr>\n",
       "    <tr>\n",
       "      <th>43</th>\n",
       "      <td>221</td>\n",
       "      <td>39.256374</td>\n",
       "      <td>-6.658981</td>\n",
       "      <td>12</td>\n",
       "      <td>Tanzania</td>\n",
       "      <td>East African Coral Coast</td>\n",
       "      <td>UnfishedLow</td>\n",
       "      <td>Lagoon/Back reef</td>\n",
       "      <td>Nyawira</td>\n",
       "      <td>3.000000</td>\n",
       "      <td>...</td>\n",
       "      <td>0.526911</td>\n",
       "      <td>-0.169093</td>\n",
       "      <td>0.52760</td>\n",
       "      <td>-0.443779</td>\n",
       "      <td>127.50</td>\n",
       "      <td>62.25</td>\n",
       "      <td>204.75</td>\n",
       "      <td>2016</td>\n",
       "      <td>2016</td>\n",
       "      <td>1</td>\n",
       "    </tr>\n",
       "    <tr>\n",
       "      <th>...</th>\n",
       "      <td>...</td>\n",
       "      <td>...</td>\n",
       "      <td>...</td>\n",
       "      <td>...</td>\n",
       "      <td>...</td>\n",
       "      <td>...</td>\n",
       "      <td>...</td>\n",
       "      <td>...</td>\n",
       "      <td>...</td>\n",
       "      <td>...</td>\n",
       "      <td>...</td>\n",
       "      <td>...</td>\n",
       "      <td>...</td>\n",
       "      <td>...</td>\n",
       "      <td>...</td>\n",
       "      <td>...</td>\n",
       "      <td>...</td>\n",
       "      <td>...</td>\n",
       "      <td>...</td>\n",
       "      <td>...</td>\n",
       "      <td>...</td>\n",
       "    </tr>\n",
       "    <tr>\n",
       "      <th>303</th>\n",
       "      <td>4039</td>\n",
       "      <td>48.082322</td>\n",
       "      <td>-13.553193</td>\n",
       "      <td>27</td>\n",
       "      <td>Madagascar</td>\n",
       "      <td>Western and Northern Madagascar</td>\n",
       "      <td>UnfishedLow</td>\n",
       "      <td>Slope</td>\n",
       "      <td>Arielle</td>\n",
       "      <td>6.733333</td>\n",
       "      <td>...</td>\n",
       "      <td>0.566251</td>\n",
       "      <td>-0.271831</td>\n",
       "      <td>0.72960</td>\n",
       "      <td>0.670117</td>\n",
       "      <td>12.50</td>\n",
       "      <td>29.00</td>\n",
       "      <td>62.50</td>\n",
       "      <td>2017</td>\n",
       "      <td>2019</td>\n",
       "      <td>3</td>\n",
       "    </tr>\n",
       "    <tr>\n",
       "      <th>304</th>\n",
       "      <td>4039</td>\n",
       "      <td>48.082322</td>\n",
       "      <td>-13.553193</td>\n",
       "      <td>20</td>\n",
       "      <td>Madagascar</td>\n",
       "      <td>Western and Northern Madagascar</td>\n",
       "      <td>UnfishedLow</td>\n",
       "      <td>Slope</td>\n",
       "      <td>D'Agata</td>\n",
       "      <td>6.000000</td>\n",
       "      <td>...</td>\n",
       "      <td>0.566251</td>\n",
       "      <td>-0.271831</td>\n",
       "      <td>0.72960</td>\n",
       "      <td>0.670117</td>\n",
       "      <td>12.50</td>\n",
       "      <td>29.00</td>\n",
       "      <td>62.50</td>\n",
       "      <td>2016</td>\n",
       "      <td>2016</td>\n",
       "      <td>2</td>\n",
       "    </tr>\n",
       "    <tr>\n",
       "      <th>305</th>\n",
       "      <td>4039</td>\n",
       "      <td>48.082322</td>\n",
       "      <td>-13.553193</td>\n",
       "      <td>21</td>\n",
       "      <td>Madagascar</td>\n",
       "      <td>Western and Northern Madagascar</td>\n",
       "      <td>UnfishedLow</td>\n",
       "      <td>Slope</td>\n",
       "      <td>Julien</td>\n",
       "      <td>5.000000</td>\n",
       "      <td>...</td>\n",
       "      <td>0.566251</td>\n",
       "      <td>-0.271831</td>\n",
       "      <td>0.72960</td>\n",
       "      <td>0.670117</td>\n",
       "      <td>12.50</td>\n",
       "      <td>29.00</td>\n",
       "      <td>62.50</td>\n",
       "      <td>2016</td>\n",
       "      <td>2016</td>\n",
       "      <td>1</td>\n",
       "    </tr>\n",
       "    <tr>\n",
       "      <th>306</th>\n",
       "      <td>4039</td>\n",
       "      <td>48.082322</td>\n",
       "      <td>-13.553193</td>\n",
       "      <td>33</td>\n",
       "      <td>Madagascar</td>\n",
       "      <td>Western and Northern Madagascar</td>\n",
       "      <td>UnfishedLow</td>\n",
       "      <td>Slope</td>\n",
       "      <td>Nyawira</td>\n",
       "      <td>5.000000</td>\n",
       "      <td>...</td>\n",
       "      <td>0.566251</td>\n",
       "      <td>-0.271831</td>\n",
       "      <td>0.72960</td>\n",
       "      <td>0.670117</td>\n",
       "      <td>12.50</td>\n",
       "      <td>29.00</td>\n",
       "      <td>62.50</td>\n",
       "      <td>2015</td>\n",
       "      <td>2015</td>\n",
       "      <td>1</td>\n",
       "    </tr>\n",
       "    <tr>\n",
       "      <th>514</th>\n",
       "      <td>6064</td>\n",
       "      <td>40.603847</td>\n",
       "      <td>-12.496246</td>\n",
       "      <td>30</td>\n",
       "      <td>Mozambique</td>\n",
       "      <td>East African Coral Coast</td>\n",
       "      <td>UnfishedLow</td>\n",
       "      <td>Lagoon/Back reef</td>\n",
       "      <td>Nyawira</td>\n",
       "      <td>8.000000</td>\n",
       "      <td>...</td>\n",
       "      <td>0.529942</td>\n",
       "      <td>-0.145626</td>\n",
       "      <td>0.68105</td>\n",
       "      <td>0.116857</td>\n",
       "      <td>54.75</td>\n",
       "      <td>54.25</td>\n",
       "      <td>126.50</td>\n",
       "      <td>2015</td>\n",
       "      <td>2015</td>\n",
       "      <td>1</td>\n",
       "    </tr>\n",
       "  </tbody>\n",
       "</table>\n",
       "<p>67 rows × 42 columns</p>\n",
       "</div>"
      ],
      "text/plain": [
       "     PU_ID     PU_Lat     PU_Lon  Number_of_genera     Country  \\\n",
       "39     220  39.233916  -6.658981                17    Tanzania   \n",
       "40     220  39.233916  -6.658981                19    Tanzania   \n",
       "41     221  39.256374  -6.658981                25    Tanzania   \n",
       "42     221  39.256374  -6.658981                19    Tanzania   \n",
       "43     221  39.256374  -6.658981                12    Tanzania   \n",
       "..     ...        ...        ...               ...         ...   \n",
       "303   4039  48.082322 -13.553193                27  Madagascar   \n",
       "304   4039  48.082322 -13.553193                20  Madagascar   \n",
       "305   4039  48.082322 -13.553193                21  Madagascar   \n",
       "306   4039  48.082322 -13.553193                33  Madagascar   \n",
       "514   6064  40.603847 -12.496246                30  Mozambique   \n",
       "\n",
       "                           Ecoregion   Management           Habitat Observer  \\\n",
       "39          East African Coral Coast  UnfishedLow             Slope  Nyawira   \n",
       "40          East African Coral Coast  UnfishedLow             Slope      Tim   \n",
       "41          East African Coral Coast  UnfishedLow  Lagoon/Back reef  Nyawira   \n",
       "42          East African Coral Coast  UnfishedLow  Lagoon/Back reef      Tim   \n",
       "43          East African Coral Coast  UnfishedLow  Lagoon/Back reef  Nyawira   \n",
       "..                               ...          ...               ...      ...   \n",
       "303  Western and Northern Madagascar  UnfishedLow             Slope  Arielle   \n",
       "304  Western and Northern Madagascar  UnfishedLow             Slope  D'Agata   \n",
       "305  Western and Northern Madagascar  UnfishedLow             Slope   Julien   \n",
       "306  Western and Northern Madagascar  UnfishedLow             Slope  Nyawira   \n",
       "514         East African Coral Coast  UnfishedLow  Lagoon/Back reef  Nyawira   \n",
       "\n",
       "         Depth  ...  SST_bimodality  SST_Skewness  ClimateStressModel  \\\n",
       "39    3.000000  ...        0.527900     -0.171423             0.62130   \n",
       "40    2.833333  ...        0.527900     -0.171423             0.62130   \n",
       "41   10.000000  ...        0.526911     -0.169093             0.52760   \n",
       "42   10.000000  ...        0.526911     -0.169093             0.52760   \n",
       "43    3.000000  ...        0.526911     -0.169093             0.52760   \n",
       "..         ...  ...             ...           ...                 ...   \n",
       "303   6.733333  ...        0.566251     -0.271831             0.72960   \n",
       "304   6.000000  ...        0.566251     -0.271831             0.72960   \n",
       "305   5.000000  ...        0.566251     -0.271831             0.72960   \n",
       "306   5.000000  ...        0.566251     -0.271831             0.72960   \n",
       "514   8.000000  ...        0.529942     -0.145626             0.68105   \n",
       "\n",
       "      Netflow  Indegree  Outdegree  Retention  min_yr  max_yr  no_replicates  \n",
       "39  -0.443779    127.50      62.25     204.75    2016    2016              1  \n",
       "40  -0.443779    127.50      62.25     204.75    2012    2019              3  \n",
       "41  -0.443779    127.50      62.25     204.75    2016    2016              1  \n",
       "42  -0.443779    127.50      62.25     204.75    2016    2016              1  \n",
       "43  -0.443779    127.50      62.25     204.75    2016    2016              1  \n",
       "..        ...       ...        ...        ...     ...     ...            ...  \n",
       "303  0.670117     12.50      29.00      62.50    2017    2019              3  \n",
       "304  0.670117     12.50      29.00      62.50    2016    2016              2  \n",
       "305  0.670117     12.50      29.00      62.50    2016    2016              1  \n",
       "306  0.670117     12.50      29.00      62.50    2015    2015              1  \n",
       "514  0.116857     54.75      54.25     126.50    2015    2015              1  \n",
       "\n",
       "[67 rows x 42 columns]"
      ]
     },
     "execution_count": 19,
     "metadata": {},
     "output_type": "execute_result"
    }
   ],
   "source": [
    "# Selecting the 'Coralcover' column from the coral_div dataframe and filtering to the rows where the values in the selected column are equal to or greater than 50.\n",
    "coral_div[coral_div['Coralcover'] >= 50] "
   ]
  },
  {
   "cell_type": "markdown",
   "metadata": {
    "deletable": false,
    "editable": false
   },
   "source": [
    "<!-- END QUESTION -->\n",
    "\n",
    "## 8\n",
    "\n",
    "Use code to find if there are there any sites with a 30% coral cover in Tanzania. Store your answer in the `coral_cover` variable."
   ]
  },
  {
   "cell_type": "code",
   "execution_count": 20,
   "metadata": {
    "tags": [
     "otter_answer_cell"
    ]
   },
   "outputs": [],
   "source": [
    "# Selecting the 'Country' is Tanzania and 'Coralcover' is 30% within the coral_div data frame\n",
    "coral_cover = coral_div[(coral_div['Country'] == 'Tanzania') & (coral_div['Coralcover'] == 30)]"
   ]
  },
  {
   "cell_type": "code",
   "execution_count": 21,
   "metadata": {
    "tags": [
     "otter_answer_cell"
    ]
   },
   "outputs": [
    {
     "data": {
      "application/vnd.microsoft.datawrangler.viewer.v0+json": {
       "columns": [
        {
         "name": "index",
         "rawType": "int64",
         "type": "integer"
        },
        {
         "name": "PU_ID",
         "rawType": "int64",
         "type": "integer"
        },
        {
         "name": "PU_Lat",
         "rawType": "float64",
         "type": "float"
        },
        {
         "name": "PU_Lon",
         "rawType": "float64",
         "type": "float"
        },
        {
         "name": "Number_of_genera",
         "rawType": "int64",
         "type": "integer"
        },
        {
         "name": "Country",
         "rawType": "object",
         "type": "string"
        },
        {
         "name": "Ecoregion",
         "rawType": "object",
         "type": "string"
        },
        {
         "name": "Management",
         "rawType": "object",
         "type": "string"
        },
        {
         "name": "Habitat",
         "rawType": "object",
         "type": "string"
        },
        {
         "name": "Observer",
         "rawType": "object",
         "type": "string"
        },
        {
         "name": "Depth",
         "rawType": "float64",
         "type": "float"
        },
        {
         "name": "Coralcover",
         "rawType": "int64",
         "type": "integer"
        },
        {
         "name": "SSTRateofRise",
         "rawType": "float64",
         "type": "float"
        },
        {
         "name": "PARmax",
         "rawType": "float64",
         "type": "float"
        },
        {
         "name": "Calcite",
         "rawType": "float64",
         "type": "float"
        },
        {
         "name": "Dis_oxygen",
         "rawType": "float64",
         "type": "float"
        },
        {
         "name": "mean.waveNRJ",
         "rawType": "float64",
         "type": "float"
        },
        {
         "name": "Salinity_mean",
         "rawType": "float64",
         "type": "float"
        },
        {
         "name": "andrello_reef_value",
         "rawType": "int64",
         "type": "integer"
        },
        {
         "name": "andrello_nutrients",
         "rawType": "float64",
         "type": "float"
        },
        {
         "name": "mean.npp",
         "rawType": "float64",
         "type": "float"
        },
        {
         "name": "TT_market_hrs",
         "rawType": "float64",
         "type": "float"
        },
        {
         "name": "TT_pop_hrs",
         "rawType": "float64",
         "type": "float"
        },
        {
         "name": "cumDHW",
         "rawType": "float64",
         "type": "float"
        },
        {
         "name": "SST_Kurtosis",
         "rawType": "float64",
         "type": "float"
        },
        {
         "name": "SST_Median",
         "rawType": "float64",
         "type": "float"
        },
        {
         "name": "ChlorA_median",
         "rawType": "float64",
         "type": "float"
        },
        {
         "name": "andrello_sediments",
         "rawType": "float64",
         "type": "float"
        },
        {
         "name": "Current_vel_mean",
         "rawType": "float64",
         "type": "float"
        },
        {
         "name": "Diff_attenuation",
         "rawType": "float64",
         "type": "float"
        },
        {
         "name": "Grav_NP",
         "rawType": "float64",
         "type": "float"
        },
        {
         "name": "Grav_NC",
         "rawType": "float64",
         "type": "float"
        },
        {
         "name": "PH",
         "rawType": "float64",
         "type": "float"
        },
        {
         "name": "SST_bimodality",
         "rawType": "float64",
         "type": "float"
        },
        {
         "name": "SST_Skewness",
         "rawType": "float64",
         "type": "float"
        },
        {
         "name": "ClimateStressModel",
         "rawType": "float64",
         "type": "float"
        },
        {
         "name": "Netflow",
         "rawType": "float64",
         "type": "float"
        },
        {
         "name": "Indegree",
         "rawType": "float64",
         "type": "float"
        },
        {
         "name": "Outdegree",
         "rawType": "float64",
         "type": "float"
        },
        {
         "name": "Retention",
         "rawType": "float64",
         "type": "float"
        },
        {
         "name": "min_yr",
         "rawType": "int64",
         "type": "integer"
        },
        {
         "name": "max_yr",
         "rawType": "int64",
         "type": "integer"
        },
        {
         "name": "no_replicates",
         "rawType": "int64",
         "type": "integer"
        }
       ],
       "ref": "7da3cb6c-06c8-4195-b2a4-e4dc4e001161",
       "rows": [
        [
         "63",
         "693",
         "39.391121",
         "-5.78249",
         "10",
         "Tanzania",
         "East African Coral Coast",
         "Fished",
         "Lagoon/Back reef",
         "Nyawira",
         "5.0",
         "30",
         "0.015675799",
         "52.99200058",
         "0.037043002",
         "4.757999897",
         "5.885770798",
         "35.099083",
         "1156",
         "1.507333875",
         "958.4956665",
         "0.95",
         "0.55",
         "30.65666663",
         "-0.940944229",
         "27.3625",
         "0.225573674",
         "26.06867981",
         "0.716784",
         "0.072999999",
         "0.004943979",
         "0.779116757",
         "8.215000153",
         "0.490512339",
         "-0.101724425",
         "0.655600011",
         "-0.309514108",
         "77.0",
         "65.25",
         "147.5",
         "2018",
         "2018",
         "2"
        ],
        [
         "64",
         "697",
         "39.391121",
         "-5.804983",
         "22",
         "Tanzania",
         "East African Coral Coast",
         "Fished",
         "Lagoon/Back reef",
         "Nyawira",
         "9.166666667",
         "30",
         "0.015598935",
         "52.99200058",
         "0.037043002",
         "4.757999897",
         "5.285147667",
         "35.099083",
         "1156",
         "1.507333875",
         "968.1000977",
         "0.95",
         "0.55",
         "30.02105583",
         "-0.942581007",
         "27.36",
         "0.217308067",
         "26.06867981",
         "0.716784",
         "0.072999999",
         "0.004943979",
         "0.779116757",
         "8.215000153",
         "0.490768897",
         "-0.100364501",
         "0.683050007",
         "-0.309514108",
         "77.0",
         "65.25",
         "147.5",
         "2010",
         "2018",
         "3"
        ],
        [
         "341",
         "4294",
         "39.211458",
         "-4.814515",
         "37",
         "Tanzania",
         "East African Coral Coast",
         "Fished",
         "Slope",
         "Nyawira",
         "11.0",
         "30",
         "0.018789378",
         "53.85800171",
         "0.002154",
         "4.717000008",
         "3.129187822",
         "35.120766",
         "0",
         "1.233231425",
         "996.5394897",
         "1.216666667",
         "0.266666667",
         "23.73633011",
         "-0.779552222",
         "27.245",
         "0.470831662",
         "1746.570435",
         "0.653534",
         "0.120999999",
         "0.004042568",
         "42.34916785",
         "8.215999603",
         "0.451293243",
         "-0.04899227",
         "0.608900011",
         "0.514920427",
         "46.0",
         "49.5",
         "82.75",
         "2018",
         "2018",
         "1"
        ],
        [
         "342",
         "4299",
         "39.233916",
         "-4.837043",
         "26",
         "Tanzania",
         "East African Coral Coast",
         "Fished",
         "Slope",
         "Nyawira",
         "12.5",
         "30",
         "0.018789378",
         "53.93700027",
         "0.0012655",
         "4.719500065",
         "2.233872414",
         "35.125887",
         "0",
         "1.233231425",
         "1018.213928",
         "1.55",
         "0.566666667",
         "23.73633011",
         "-0.779552222",
         "27.25",
         "0.462738894",
         "1746.570435",
         "0.6538835",
         "0.111499999",
         "0.000879065",
         "25.91415335",
         "8.215999603",
         "0.451293243",
         "-0.04899227",
         "0.601725012",
         "0.514920427",
         "46.0",
         "49.5",
         "82.75",
         "2018",
         "2018",
         "2"
        ],
        [
         "343",
         "4302",
         "39.211458",
         "-4.85957",
         "31",
         "Tanzania",
         "East African Coral Coast",
         "Fished",
         "Slope",
         "Nyawira",
         "7.0",
         "30",
         "0.018461538",
         "54.01599884",
         "0.000377",
         "4.722000122",
         "0.179305866",
         "35.131008",
         "0",
         "1.233231425",
         "1071.519775",
         "1.55",
         "0.566666667",
         "23.28539069",
         "-0.784668761",
         "27.26",
         "0.469467044",
         "1746.570435",
         "0.654233",
         "0.101999998",
         "0.000879065",
         "25.91415335",
         "8.215999603",
         "0.452401844",
         "-0.050476778",
         "0.595200002",
         "0.514920427",
         "46.0",
         "49.5",
         "82.75",
         "2018",
         "2018",
         "1"
        ],
        [
         "344",
         "4303",
         "39.30129",
         "-4.85957",
         "23",
         "Tanzania",
         "East African Coral Coast",
         "Fished",
         "Slope",
         "Nyawira",
         "11.0",
         "30",
         "0.018269803",
         "53.93700027",
         "0.002104",
         "4.722000122",
         "2.600267649",
         "35.174747",
         "0",
         "0.611644924",
         "965.6573486",
         "1.733333333",
         "0.8",
         "24.65921922",
         "-0.792061992",
         "27.255",
         "0.339958981",
         "858.381897",
         "0.738552",
         "0.096000001",
         "0.000426418",
         "20.65652678",
         "8.215999603",
         "0.453806087",
         "-0.048007235",
         "0.602299988",
         "0.514920427",
         "46.0",
         "49.5",
         "82.75",
         "2018",
         "2018",
         "1"
        ],
        [
         "377",
         "4906",
         "39.660616",
         "-4.972195",
         "33",
         "Tanzania",
         "East African Coral Coast",
         "Fished",
         "Lagoon/Back reef",
         "Nyawira",
         "9.0",
         "30",
         "0.016548924",
         "53.94300079",
         "7.6e-05",
         "4.727000237",
         "0.034857083",
         "34.96896",
         "345",
         "0.063686602",
         "980.6569214",
         "1.55",
         "0.7",
         "27.14427827",
         "-0.941926155",
         "27.215",
         "0.212633535",
         "23.13508415",
         "0.234671",
         "0.061999999",
         "0.038529943",
         "3.044183371",
         "8.213000298",
         "0.488396405",
         "-0.074228897",
         "0.671900004",
         "0.156359174",
         "66.75",
         "41.75",
         "38.0",
         "2013",
         "2013",
         "2"
        ],
        [
         "388",
         "5049",
         "39.6157",
         "-5.490011",
         "14",
         "Tanzania",
         "East African Coral Coast",
         "Fished",
         "Lagoon/Back reef",
         "Nyawira",
         "4.0",
         "30",
         "0.015241248",
         "52.49300003",
         "0.000155",
         "4.748500109",
         "8.124816895",
         "34.976822",
         "0",
         "0.10481631",
         "755.4732666",
         "2.066666667",
         "0.583333333",
         "26.5662851",
         "-0.935093584",
         "25.715",
         "0.158397194",
         "9.305735588",
         "0.406605",
         "0.0625",
         "0.003124995",
         "1.727035769",
         "8.213000298",
         "0.489920521",
         "-0.109522579",
         "0.656999975",
         "-0.328399309",
         "93.25",
         "57.25",
         "650.25",
         "2018",
         "2018",
         "1"
        ],
        [
         "389",
         "5050",
         "39.638158",
         "-5.490011",
         "18",
         "Tanzania",
         "East African Coral Coast",
         "Fished",
         "Lagoon/Back reef",
         "Nyawira",
         "6.0",
         "30",
         "0.015241248",
         "52.49300003",
         "0.000155",
         "4.748500109",
         "8.124816895",
         "34.976822",
         "0",
         "0.10481631",
         "755.4732666",
         "2.066666667",
         "0.583333333",
         "26.5662851",
         "-0.935093584",
         "25.71",
         "0.224526219",
         "9.305735588",
         "0.406605",
         "0.0625",
         "0.003124995",
         "1.727035769",
         "8.213000298",
         "0.489920521",
         "-0.109522579",
         "0.618824989",
         "-0.328399309",
         "93.25",
         "57.25",
         "650.25",
         "2018",
         "2018",
         "1"
        ]
       ],
       "shape": {
        "columns": 42,
        "rows": 9
       }
      },
      "text/html": [
       "<div>\n",
       "<style scoped>\n",
       "    .dataframe tbody tr th:only-of-type {\n",
       "        vertical-align: middle;\n",
       "    }\n",
       "\n",
       "    .dataframe tbody tr th {\n",
       "        vertical-align: top;\n",
       "    }\n",
       "\n",
       "    .dataframe thead th {\n",
       "        text-align: right;\n",
       "    }\n",
       "</style>\n",
       "<table border=\"1\" class=\"dataframe\">\n",
       "  <thead>\n",
       "    <tr style=\"text-align: right;\">\n",
       "      <th></th>\n",
       "      <th>PU_ID</th>\n",
       "      <th>PU_Lat</th>\n",
       "      <th>PU_Lon</th>\n",
       "      <th>Number_of_genera</th>\n",
       "      <th>Country</th>\n",
       "      <th>Ecoregion</th>\n",
       "      <th>Management</th>\n",
       "      <th>Habitat</th>\n",
       "      <th>Observer</th>\n",
       "      <th>Depth</th>\n",
       "      <th>...</th>\n",
       "      <th>SST_bimodality</th>\n",
       "      <th>SST_Skewness</th>\n",
       "      <th>ClimateStressModel</th>\n",
       "      <th>Netflow</th>\n",
       "      <th>Indegree</th>\n",
       "      <th>Outdegree</th>\n",
       "      <th>Retention</th>\n",
       "      <th>min_yr</th>\n",
       "      <th>max_yr</th>\n",
       "      <th>no_replicates</th>\n",
       "    </tr>\n",
       "  </thead>\n",
       "  <tbody>\n",
       "    <tr>\n",
       "      <th>63</th>\n",
       "      <td>693</td>\n",
       "      <td>39.391121</td>\n",
       "      <td>-5.782490</td>\n",
       "      <td>10</td>\n",
       "      <td>Tanzania</td>\n",
       "      <td>East African Coral Coast</td>\n",
       "      <td>Fished</td>\n",
       "      <td>Lagoon/Back reef</td>\n",
       "      <td>Nyawira</td>\n",
       "      <td>5.000000</td>\n",
       "      <td>...</td>\n",
       "      <td>0.490512</td>\n",
       "      <td>-0.101724</td>\n",
       "      <td>0.655600</td>\n",
       "      <td>-0.309514</td>\n",
       "      <td>77.00</td>\n",
       "      <td>65.25</td>\n",
       "      <td>147.50</td>\n",
       "      <td>2018</td>\n",
       "      <td>2018</td>\n",
       "      <td>2</td>\n",
       "    </tr>\n",
       "    <tr>\n",
       "      <th>64</th>\n",
       "      <td>697</td>\n",
       "      <td>39.391121</td>\n",
       "      <td>-5.804983</td>\n",
       "      <td>22</td>\n",
       "      <td>Tanzania</td>\n",
       "      <td>East African Coral Coast</td>\n",
       "      <td>Fished</td>\n",
       "      <td>Lagoon/Back reef</td>\n",
       "      <td>Nyawira</td>\n",
       "      <td>9.166667</td>\n",
       "      <td>...</td>\n",
       "      <td>0.490769</td>\n",
       "      <td>-0.100365</td>\n",
       "      <td>0.683050</td>\n",
       "      <td>-0.309514</td>\n",
       "      <td>77.00</td>\n",
       "      <td>65.25</td>\n",
       "      <td>147.50</td>\n",
       "      <td>2010</td>\n",
       "      <td>2018</td>\n",
       "      <td>3</td>\n",
       "    </tr>\n",
       "    <tr>\n",
       "      <th>341</th>\n",
       "      <td>4294</td>\n",
       "      <td>39.211458</td>\n",
       "      <td>-4.814515</td>\n",
       "      <td>37</td>\n",
       "      <td>Tanzania</td>\n",
       "      <td>East African Coral Coast</td>\n",
       "      <td>Fished</td>\n",
       "      <td>Slope</td>\n",
       "      <td>Nyawira</td>\n",
       "      <td>11.000000</td>\n",
       "      <td>...</td>\n",
       "      <td>0.451293</td>\n",
       "      <td>-0.048992</td>\n",
       "      <td>0.608900</td>\n",
       "      <td>0.514920</td>\n",
       "      <td>46.00</td>\n",
       "      <td>49.50</td>\n",
       "      <td>82.75</td>\n",
       "      <td>2018</td>\n",
       "      <td>2018</td>\n",
       "      <td>1</td>\n",
       "    </tr>\n",
       "    <tr>\n",
       "      <th>342</th>\n",
       "      <td>4299</td>\n",
       "      <td>39.233916</td>\n",
       "      <td>-4.837043</td>\n",
       "      <td>26</td>\n",
       "      <td>Tanzania</td>\n",
       "      <td>East African Coral Coast</td>\n",
       "      <td>Fished</td>\n",
       "      <td>Slope</td>\n",
       "      <td>Nyawira</td>\n",
       "      <td>12.500000</td>\n",
       "      <td>...</td>\n",
       "      <td>0.451293</td>\n",
       "      <td>-0.048992</td>\n",
       "      <td>0.601725</td>\n",
       "      <td>0.514920</td>\n",
       "      <td>46.00</td>\n",
       "      <td>49.50</td>\n",
       "      <td>82.75</td>\n",
       "      <td>2018</td>\n",
       "      <td>2018</td>\n",
       "      <td>2</td>\n",
       "    </tr>\n",
       "    <tr>\n",
       "      <th>343</th>\n",
       "      <td>4302</td>\n",
       "      <td>39.211458</td>\n",
       "      <td>-4.859570</td>\n",
       "      <td>31</td>\n",
       "      <td>Tanzania</td>\n",
       "      <td>East African Coral Coast</td>\n",
       "      <td>Fished</td>\n",
       "      <td>Slope</td>\n",
       "      <td>Nyawira</td>\n",
       "      <td>7.000000</td>\n",
       "      <td>...</td>\n",
       "      <td>0.452402</td>\n",
       "      <td>-0.050477</td>\n",
       "      <td>0.595200</td>\n",
       "      <td>0.514920</td>\n",
       "      <td>46.00</td>\n",
       "      <td>49.50</td>\n",
       "      <td>82.75</td>\n",
       "      <td>2018</td>\n",
       "      <td>2018</td>\n",
       "      <td>1</td>\n",
       "    </tr>\n",
       "    <tr>\n",
       "      <th>344</th>\n",
       "      <td>4303</td>\n",
       "      <td>39.301290</td>\n",
       "      <td>-4.859570</td>\n",
       "      <td>23</td>\n",
       "      <td>Tanzania</td>\n",
       "      <td>East African Coral Coast</td>\n",
       "      <td>Fished</td>\n",
       "      <td>Slope</td>\n",
       "      <td>Nyawira</td>\n",
       "      <td>11.000000</td>\n",
       "      <td>...</td>\n",
       "      <td>0.453806</td>\n",
       "      <td>-0.048007</td>\n",
       "      <td>0.602300</td>\n",
       "      <td>0.514920</td>\n",
       "      <td>46.00</td>\n",
       "      <td>49.50</td>\n",
       "      <td>82.75</td>\n",
       "      <td>2018</td>\n",
       "      <td>2018</td>\n",
       "      <td>1</td>\n",
       "    </tr>\n",
       "    <tr>\n",
       "      <th>377</th>\n",
       "      <td>4906</td>\n",
       "      <td>39.660616</td>\n",
       "      <td>-4.972195</td>\n",
       "      <td>33</td>\n",
       "      <td>Tanzania</td>\n",
       "      <td>East African Coral Coast</td>\n",
       "      <td>Fished</td>\n",
       "      <td>Lagoon/Back reef</td>\n",
       "      <td>Nyawira</td>\n",
       "      <td>9.000000</td>\n",
       "      <td>...</td>\n",
       "      <td>0.488396</td>\n",
       "      <td>-0.074229</td>\n",
       "      <td>0.671900</td>\n",
       "      <td>0.156359</td>\n",
       "      <td>66.75</td>\n",
       "      <td>41.75</td>\n",
       "      <td>38.00</td>\n",
       "      <td>2013</td>\n",
       "      <td>2013</td>\n",
       "      <td>2</td>\n",
       "    </tr>\n",
       "    <tr>\n",
       "      <th>388</th>\n",
       "      <td>5049</td>\n",
       "      <td>39.615700</td>\n",
       "      <td>-5.490011</td>\n",
       "      <td>14</td>\n",
       "      <td>Tanzania</td>\n",
       "      <td>East African Coral Coast</td>\n",
       "      <td>Fished</td>\n",
       "      <td>Lagoon/Back reef</td>\n",
       "      <td>Nyawira</td>\n",
       "      <td>4.000000</td>\n",
       "      <td>...</td>\n",
       "      <td>0.489921</td>\n",
       "      <td>-0.109523</td>\n",
       "      <td>0.657000</td>\n",
       "      <td>-0.328399</td>\n",
       "      <td>93.25</td>\n",
       "      <td>57.25</td>\n",
       "      <td>650.25</td>\n",
       "      <td>2018</td>\n",
       "      <td>2018</td>\n",
       "      <td>1</td>\n",
       "    </tr>\n",
       "    <tr>\n",
       "      <th>389</th>\n",
       "      <td>5050</td>\n",
       "      <td>39.638158</td>\n",
       "      <td>-5.490011</td>\n",
       "      <td>18</td>\n",
       "      <td>Tanzania</td>\n",
       "      <td>East African Coral Coast</td>\n",
       "      <td>Fished</td>\n",
       "      <td>Lagoon/Back reef</td>\n",
       "      <td>Nyawira</td>\n",
       "      <td>6.000000</td>\n",
       "      <td>...</td>\n",
       "      <td>0.489921</td>\n",
       "      <td>-0.109523</td>\n",
       "      <td>0.618825</td>\n",
       "      <td>-0.328399</td>\n",
       "      <td>93.25</td>\n",
       "      <td>57.25</td>\n",
       "      <td>650.25</td>\n",
       "      <td>2018</td>\n",
       "      <td>2018</td>\n",
       "      <td>1</td>\n",
       "    </tr>\n",
       "  </tbody>\n",
       "</table>\n",
       "<p>9 rows × 42 columns</p>\n",
       "</div>"
      ],
      "text/plain": [
       "     PU_ID     PU_Lat    PU_Lon  Number_of_genera   Country  \\\n",
       "63     693  39.391121 -5.782490                10  Tanzania   \n",
       "64     697  39.391121 -5.804983                22  Tanzania   \n",
       "341   4294  39.211458 -4.814515                37  Tanzania   \n",
       "342   4299  39.233916 -4.837043                26  Tanzania   \n",
       "343   4302  39.211458 -4.859570                31  Tanzania   \n",
       "344   4303  39.301290 -4.859570                23  Tanzania   \n",
       "377   4906  39.660616 -4.972195                33  Tanzania   \n",
       "388   5049  39.615700 -5.490011                14  Tanzania   \n",
       "389   5050  39.638158 -5.490011                18  Tanzania   \n",
       "\n",
       "                    Ecoregion Management           Habitat Observer  \\\n",
       "63   East African Coral Coast     Fished  Lagoon/Back reef  Nyawira   \n",
       "64   East African Coral Coast     Fished  Lagoon/Back reef  Nyawira   \n",
       "341  East African Coral Coast     Fished             Slope  Nyawira   \n",
       "342  East African Coral Coast     Fished             Slope  Nyawira   \n",
       "343  East African Coral Coast     Fished             Slope  Nyawira   \n",
       "344  East African Coral Coast     Fished             Slope  Nyawira   \n",
       "377  East African Coral Coast     Fished  Lagoon/Back reef  Nyawira   \n",
       "388  East African Coral Coast     Fished  Lagoon/Back reef  Nyawira   \n",
       "389  East African Coral Coast     Fished  Lagoon/Back reef  Nyawira   \n",
       "\n",
       "         Depth  ...  SST_bimodality  SST_Skewness  ClimateStressModel  \\\n",
       "63    5.000000  ...        0.490512     -0.101724            0.655600   \n",
       "64    9.166667  ...        0.490769     -0.100365            0.683050   \n",
       "341  11.000000  ...        0.451293     -0.048992            0.608900   \n",
       "342  12.500000  ...        0.451293     -0.048992            0.601725   \n",
       "343   7.000000  ...        0.452402     -0.050477            0.595200   \n",
       "344  11.000000  ...        0.453806     -0.048007            0.602300   \n",
       "377   9.000000  ...        0.488396     -0.074229            0.671900   \n",
       "388   4.000000  ...        0.489921     -0.109523            0.657000   \n",
       "389   6.000000  ...        0.489921     -0.109523            0.618825   \n",
       "\n",
       "      Netflow  Indegree  Outdegree  Retention  min_yr  max_yr  no_replicates  \n",
       "63  -0.309514     77.00      65.25     147.50    2018    2018              2  \n",
       "64  -0.309514     77.00      65.25     147.50    2010    2018              3  \n",
       "341  0.514920     46.00      49.50      82.75    2018    2018              1  \n",
       "342  0.514920     46.00      49.50      82.75    2018    2018              2  \n",
       "343  0.514920     46.00      49.50      82.75    2018    2018              1  \n",
       "344  0.514920     46.00      49.50      82.75    2018    2018              1  \n",
       "377  0.156359     66.75      41.75      38.00    2013    2013              2  \n",
       "388 -0.328399     93.25      57.25     650.25    2018    2018              1  \n",
       "389 -0.328399     93.25      57.25     650.25    2018    2018              1  \n",
       "\n",
       "[9 rows x 42 columns]"
      ]
     },
     "execution_count": 21,
     "metadata": {},
     "output_type": "execute_result"
    }
   ],
   "source": [
    "# View the dataframe\n",
    "coral_cover"
   ]
  },
  {
   "cell_type": "code",
   "execution_count": 22,
   "metadata": {
    "deletable": false,
    "editable": false
   },
   "outputs": [
    {
     "data": {
      "text/html": [
       "<p><strong><pre style='display: inline;'>q8</pre></strong> passed! 🌈</p>"
      ],
      "text/plain": [
       "q8 results: All test cases passed!"
      ]
     },
     "execution_count": 22,
     "metadata": {},
     "output_type": "execute_result"
    }
   ],
   "source": [
    "grader.check(\"q8\")"
   ]
  },
  {
   "cell_type": "markdown",
   "metadata": {
    "deletable": false,
    "editable": false
   },
   "source": [
    "## 9\n",
    "\n",
    "We are interested in looking at the PH of sea water (`PH` column),  mean salinity (`Salinity_mean` column), and depth of survey location in meters (`Depth` column). Subset the data frame by selecting only these column. Store your answer in the `filtered_data` variable"
   ]
  },
  {
   "cell_type": "code",
   "execution_count": 23,
   "metadata": {
    "tags": [
     "otter_answer_cell"
    ]
   },
   "outputs": [],
   "source": [
    "# Selecting columns we are interested in using a list.\n",
    "filtered_data = coral_div[['PH', 'Salinity_mean', 'Depth']]"
   ]
  },
  {
   "cell_type": "code",
   "execution_count": 24,
   "metadata": {
    "deletable": false,
    "editable": false
   },
   "outputs": [
    {
     "data": {
      "application/vnd.microsoft.datawrangler.viewer.v0+json": {
       "columns": [
        {
         "name": "index",
         "rawType": "int64",
         "type": "integer"
        },
        {
         "name": "PH",
         "rawType": "float64",
         "type": "float"
        },
        {
         "name": "Salinity_mean",
         "rawType": "float64",
         "type": "float"
        },
        {
         "name": "Depth",
         "rawType": "float64",
         "type": "float"
        }
       ],
       "ref": "9f7badd0-6b26-46a3-bb3d-bb2c9c3f6c03",
       "rows": [
        [
         "0",
         "8.21750021",
         "35.16764625",
         "11.0"
        ],
        [
         "1",
         "8.21750021",
         "35.16764625",
         "2.0"
        ],
        [
         "2",
         "8.21750021",
         "35.16764625",
         "4.0"
        ],
        [
         "3",
         "8.21750021",
         "35.16764625",
         "3.0"
        ],
        [
         "4",
         "8.218000412",
         "35.102688",
         "1.5"
        ]
       ],
       "shape": {
        "columns": 3,
        "rows": 5
       }
      },
      "text/html": [
       "<div>\n",
       "<style scoped>\n",
       "    .dataframe tbody tr th:only-of-type {\n",
       "        vertical-align: middle;\n",
       "    }\n",
       "\n",
       "    .dataframe tbody tr th {\n",
       "        vertical-align: top;\n",
       "    }\n",
       "\n",
       "    .dataframe thead th {\n",
       "        text-align: right;\n",
       "    }\n",
       "</style>\n",
       "<table border=\"1\" class=\"dataframe\">\n",
       "  <thead>\n",
       "    <tr style=\"text-align: right;\">\n",
       "      <th></th>\n",
       "      <th>PH</th>\n",
       "      <th>Salinity_mean</th>\n",
       "      <th>Depth</th>\n",
       "    </tr>\n",
       "  </thead>\n",
       "  <tbody>\n",
       "    <tr>\n",
       "      <th>0</th>\n",
       "      <td>8.2175</td>\n",
       "      <td>35.167646</td>\n",
       "      <td>11.0</td>\n",
       "    </tr>\n",
       "    <tr>\n",
       "      <th>1</th>\n",
       "      <td>8.2175</td>\n",
       "      <td>35.167646</td>\n",
       "      <td>2.0</td>\n",
       "    </tr>\n",
       "    <tr>\n",
       "      <th>2</th>\n",
       "      <td>8.2175</td>\n",
       "      <td>35.167646</td>\n",
       "      <td>4.0</td>\n",
       "    </tr>\n",
       "    <tr>\n",
       "      <th>3</th>\n",
       "      <td>8.2175</td>\n",
       "      <td>35.167646</td>\n",
       "      <td>3.0</td>\n",
       "    </tr>\n",
       "    <tr>\n",
       "      <th>4</th>\n",
       "      <td>8.2180</td>\n",
       "      <td>35.102688</td>\n",
       "      <td>1.5</td>\n",
       "    </tr>\n",
       "  </tbody>\n",
       "</table>\n",
       "</div>"
      ],
      "text/plain": [
       "       PH  Salinity_mean  Depth\n",
       "0  8.2175      35.167646   11.0\n",
       "1  8.2175      35.167646    2.0\n",
       "2  8.2175      35.167646    4.0\n",
       "3  8.2175      35.167646    3.0\n",
       "4  8.2180      35.102688    1.5"
      ]
     },
     "execution_count": 24,
     "metadata": {},
     "output_type": "execute_result"
    }
   ],
   "source": [
    "# View the dataframe\n",
    "filtered_data.head()"
   ]
  },
  {
   "cell_type": "code",
   "execution_count": 25,
   "metadata": {
    "deletable": false,
    "editable": false
   },
   "outputs": [
    {
     "data": {
      "text/html": [
       "<p><strong><pre style='display: inline;'>q9</pre></strong> passed! 🎉</p>"
      ],
      "text/plain": [
       "q9 results: All test cases passed!"
      ]
     },
     "execution_count": 25,
     "metadata": {},
     "output_type": "execute_result"
    }
   ],
   "source": [
    "grader.check(\"q9\")"
   ]
  },
  {
   "cell_type": "markdown",
   "metadata": {
    "deletable": false,
    "editable": false
   },
   "source": [
    "## 10\n",
    "The `max_yr` column indicates the year of last sampling at a given site. Select the PH, salinity, and depth for sites where sampling ended in 2017. Store your answer in the `sampling_2017` variable. `Sampling_2017` should include the following columns in the following order: ` PH, Salinity_mean, Depth, max_yr`. \n"
   ]
  },
  {
   "cell_type": "code",
   "execution_count": 26,
   "metadata": {
    "tags": [
     "otter_answer_cell"
    ]
   },
   "outputs": [],
   "source": [
    "# Selecting the data where max_yr = 2017 and the selecting the columns we are interested in using a list.\n",
    "sampling_2017 = coral_div.loc[coral_div['max_yr'] == 2017, ['PH', 'Salinity_mean', 'Depth', 'max_yr']]"
   ]
  },
  {
   "cell_type": "code",
   "execution_count": 27,
   "metadata": {
    "tags": [
     "otter_answer_cell"
    ]
   },
   "outputs": [
    {
     "data": {
      "application/vnd.microsoft.datawrangler.viewer.v0+json": {
       "columns": [
        {
         "name": "index",
         "rawType": "int64",
         "type": "integer"
        },
        {
         "name": "PH",
         "rawType": "float64",
         "type": "float"
        },
        {
         "name": "Salinity_mean",
         "rawType": "float64",
         "type": "float"
        },
        {
         "name": "Depth",
         "rawType": "float64",
         "type": "float"
        },
        {
         "name": "max_yr",
         "rawType": "int64",
         "type": "integer"
        }
       ],
       "ref": "7021ffb0-7add-40c2-b630-68c9d20bd35d",
       "rows": [
        [
         "67",
         "8.215000153",
         "35.1000845",
         "16.0",
         "2017"
        ],
        [
         "68",
         "8.21449995",
         "35.144927",
         "10.0",
         "2017"
        ],
        [
         "70",
         "8.215000153",
         "35.101086",
         "11.0",
         "2017"
        ],
        [
         "71",
         "8.215000153",
         "35.101086",
         "11.0",
         "2017"
        ],
        [
         "72",
         "8.215000153",
         "35.101086",
         "9.0",
         "2017"
        ],
        [
         "73",
         "8.215000153",
         "35.101086",
         "9.0",
         "2017"
        ],
        [
         "84",
         "8.211000443",
         "35.278084",
         "12.5",
         "2017"
        ],
        [
         "85",
         "8.211000443",
         "35.278084",
         "6.0",
         "2017"
        ],
        [
         "164",
         "8.222000122",
         "35.337914",
         "9.875",
         "2017"
        ],
        [
         "167",
         "8.222000122",
         "35.337914",
         "12.075",
         "2017"
        ],
        [
         "169",
         "8.222000122",
         "35.337914",
         "10.3",
         "2017"
        ],
        [
         "172",
         "8.222000122",
         "35.337914",
         "11.0",
         "2017"
        ],
        [
         "174",
         "8.222499847",
         "35.2874185",
         "7.266666667",
         "2017"
        ],
        [
         "176",
         "8.222499847",
         "35.2874185",
         "13.225",
         "2017"
        ],
        [
         "179",
         "8.222499847",
         "35.2874185",
         "10.55",
         "2017"
        ],
        [
         "182",
         "8.222000122",
         "35.331669",
         "12.03333333",
         "2017"
        ],
        [
         "185",
         "8.222999573",
         "35.37446",
         "10.9",
         "2017"
        ],
        [
         "188",
         "8.222999573",
         "35.37446",
         "14.725",
         "2017"
        ],
        [
         "191",
         "8.222999573",
         "35.247482",
         "9.725",
         "2017"
        ],
        [
         "194",
         "8.222999573",
         "35.341358",
         "11.075",
         "2017"
        ],
        [
         "197",
         "8.222999573",
         "35.390354",
         "10.6",
         "2017"
        ],
        [
         "346",
         "8.216499805",
         "35.1142445",
         "7.0",
         "2017"
        ],
        [
         "347",
         "8.216499805",
         "35.112398",
         "3.0",
         "2017"
        ],
        [
         "348",
         "8.216499805",
         "35.112398",
         "4.0",
         "2017"
        ],
        [
         "349",
         "8.215999603",
         "35.117374",
         "5.5",
         "2017"
        ],
        [
         "350",
         "8.215999603",
         "35.117374",
         "2.0",
         "2017"
        ],
        [
         "351",
         "8.215999603",
         "35.117374",
         "15.0",
         "2017"
        ],
        [
         "352",
         "8.215999603",
         "35.117374",
         "5.0",
         "2017"
        ],
        [
         "353",
         "8.216499805",
         "35.14946175",
         "11.0",
         "2017"
        ],
        [
         "354",
         "8.215999603",
         "35.270199",
         "9.0",
         "2017"
        ],
        [
         "395",
         "8.239999771",
         "35.276642",
         "9.416666667",
         "2017"
        ],
        [
         "559",
         "8.211999893",
         "35.204185",
         "1.5",
         "2017"
        ],
        [
         "566",
         "8.239999771",
         "35.301208",
         "17.0",
         "2017"
        ],
        [
         "569",
         "8.239999771",
         "35.301208",
         "13.83333333",
         "2017"
        ],
        [
         "574",
         "8.239999771",
         "35.301208",
         "13.47",
         "2017"
        ]
       ],
       "shape": {
        "columns": 4,
        "rows": 35
       }
      },
      "text/html": [
       "<div>\n",
       "<style scoped>\n",
       "    .dataframe tbody tr th:only-of-type {\n",
       "        vertical-align: middle;\n",
       "    }\n",
       "\n",
       "    .dataframe tbody tr th {\n",
       "        vertical-align: top;\n",
       "    }\n",
       "\n",
       "    .dataframe thead th {\n",
       "        text-align: right;\n",
       "    }\n",
       "</style>\n",
       "<table border=\"1\" class=\"dataframe\">\n",
       "  <thead>\n",
       "    <tr style=\"text-align: right;\">\n",
       "      <th></th>\n",
       "      <th>PH</th>\n",
       "      <th>Salinity_mean</th>\n",
       "      <th>Depth</th>\n",
       "      <th>max_yr</th>\n",
       "    </tr>\n",
       "  </thead>\n",
       "  <tbody>\n",
       "    <tr>\n",
       "      <th>67</th>\n",
       "      <td>8.2150</td>\n",
       "      <td>35.100085</td>\n",
       "      <td>16.000000</td>\n",
       "      <td>2017</td>\n",
       "    </tr>\n",
       "    <tr>\n",
       "      <th>68</th>\n",
       "      <td>8.2145</td>\n",
       "      <td>35.144927</td>\n",
       "      <td>10.000000</td>\n",
       "      <td>2017</td>\n",
       "    </tr>\n",
       "    <tr>\n",
       "      <th>70</th>\n",
       "      <td>8.2150</td>\n",
       "      <td>35.101086</td>\n",
       "      <td>11.000000</td>\n",
       "      <td>2017</td>\n",
       "    </tr>\n",
       "    <tr>\n",
       "      <th>71</th>\n",
       "      <td>8.2150</td>\n",
       "      <td>35.101086</td>\n",
       "      <td>11.000000</td>\n",
       "      <td>2017</td>\n",
       "    </tr>\n",
       "    <tr>\n",
       "      <th>72</th>\n",
       "      <td>8.2150</td>\n",
       "      <td>35.101086</td>\n",
       "      <td>9.000000</td>\n",
       "      <td>2017</td>\n",
       "    </tr>\n",
       "    <tr>\n",
       "      <th>73</th>\n",
       "      <td>8.2150</td>\n",
       "      <td>35.101086</td>\n",
       "      <td>9.000000</td>\n",
       "      <td>2017</td>\n",
       "    </tr>\n",
       "    <tr>\n",
       "      <th>84</th>\n",
       "      <td>8.2110</td>\n",
       "      <td>35.278084</td>\n",
       "      <td>12.500000</td>\n",
       "      <td>2017</td>\n",
       "    </tr>\n",
       "    <tr>\n",
       "      <th>85</th>\n",
       "      <td>8.2110</td>\n",
       "      <td>35.278084</td>\n",
       "      <td>6.000000</td>\n",
       "      <td>2017</td>\n",
       "    </tr>\n",
       "    <tr>\n",
       "      <th>164</th>\n",
       "      <td>8.2220</td>\n",
       "      <td>35.337914</td>\n",
       "      <td>9.875000</td>\n",
       "      <td>2017</td>\n",
       "    </tr>\n",
       "    <tr>\n",
       "      <th>167</th>\n",
       "      <td>8.2220</td>\n",
       "      <td>35.337914</td>\n",
       "      <td>12.075000</td>\n",
       "      <td>2017</td>\n",
       "    </tr>\n",
       "    <tr>\n",
       "      <th>169</th>\n",
       "      <td>8.2220</td>\n",
       "      <td>35.337914</td>\n",
       "      <td>10.300000</td>\n",
       "      <td>2017</td>\n",
       "    </tr>\n",
       "    <tr>\n",
       "      <th>172</th>\n",
       "      <td>8.2220</td>\n",
       "      <td>35.337914</td>\n",
       "      <td>11.000000</td>\n",
       "      <td>2017</td>\n",
       "    </tr>\n",
       "    <tr>\n",
       "      <th>174</th>\n",
       "      <td>8.2225</td>\n",
       "      <td>35.287419</td>\n",
       "      <td>7.266667</td>\n",
       "      <td>2017</td>\n",
       "    </tr>\n",
       "    <tr>\n",
       "      <th>176</th>\n",
       "      <td>8.2225</td>\n",
       "      <td>35.287419</td>\n",
       "      <td>13.225000</td>\n",
       "      <td>2017</td>\n",
       "    </tr>\n",
       "    <tr>\n",
       "      <th>179</th>\n",
       "      <td>8.2225</td>\n",
       "      <td>35.287419</td>\n",
       "      <td>10.550000</td>\n",
       "      <td>2017</td>\n",
       "    </tr>\n",
       "    <tr>\n",
       "      <th>182</th>\n",
       "      <td>8.2220</td>\n",
       "      <td>35.331669</td>\n",
       "      <td>12.033333</td>\n",
       "      <td>2017</td>\n",
       "    </tr>\n",
       "    <tr>\n",
       "      <th>185</th>\n",
       "      <td>8.2230</td>\n",
       "      <td>35.374460</td>\n",
       "      <td>10.900000</td>\n",
       "      <td>2017</td>\n",
       "    </tr>\n",
       "    <tr>\n",
       "      <th>188</th>\n",
       "      <td>8.2230</td>\n",
       "      <td>35.374460</td>\n",
       "      <td>14.725000</td>\n",
       "      <td>2017</td>\n",
       "    </tr>\n",
       "    <tr>\n",
       "      <th>191</th>\n",
       "      <td>8.2230</td>\n",
       "      <td>35.247482</td>\n",
       "      <td>9.725000</td>\n",
       "      <td>2017</td>\n",
       "    </tr>\n",
       "    <tr>\n",
       "      <th>194</th>\n",
       "      <td>8.2230</td>\n",
       "      <td>35.341358</td>\n",
       "      <td>11.075000</td>\n",
       "      <td>2017</td>\n",
       "    </tr>\n",
       "    <tr>\n",
       "      <th>197</th>\n",
       "      <td>8.2230</td>\n",
       "      <td>35.390354</td>\n",
       "      <td>10.600000</td>\n",
       "      <td>2017</td>\n",
       "    </tr>\n",
       "    <tr>\n",
       "      <th>346</th>\n",
       "      <td>8.2165</td>\n",
       "      <td>35.114244</td>\n",
       "      <td>7.000000</td>\n",
       "      <td>2017</td>\n",
       "    </tr>\n",
       "    <tr>\n",
       "      <th>347</th>\n",
       "      <td>8.2165</td>\n",
       "      <td>35.112398</td>\n",
       "      <td>3.000000</td>\n",
       "      <td>2017</td>\n",
       "    </tr>\n",
       "    <tr>\n",
       "      <th>348</th>\n",
       "      <td>8.2165</td>\n",
       "      <td>35.112398</td>\n",
       "      <td>4.000000</td>\n",
       "      <td>2017</td>\n",
       "    </tr>\n",
       "    <tr>\n",
       "      <th>349</th>\n",
       "      <td>8.2160</td>\n",
       "      <td>35.117374</td>\n",
       "      <td>5.500000</td>\n",
       "      <td>2017</td>\n",
       "    </tr>\n",
       "    <tr>\n",
       "      <th>350</th>\n",
       "      <td>8.2160</td>\n",
       "      <td>35.117374</td>\n",
       "      <td>2.000000</td>\n",
       "      <td>2017</td>\n",
       "    </tr>\n",
       "    <tr>\n",
       "      <th>351</th>\n",
       "      <td>8.2160</td>\n",
       "      <td>35.117374</td>\n",
       "      <td>15.000000</td>\n",
       "      <td>2017</td>\n",
       "    </tr>\n",
       "    <tr>\n",
       "      <th>352</th>\n",
       "      <td>8.2160</td>\n",
       "      <td>35.117374</td>\n",
       "      <td>5.000000</td>\n",
       "      <td>2017</td>\n",
       "    </tr>\n",
       "    <tr>\n",
       "      <th>353</th>\n",
       "      <td>8.2165</td>\n",
       "      <td>35.149462</td>\n",
       "      <td>11.000000</td>\n",
       "      <td>2017</td>\n",
       "    </tr>\n",
       "    <tr>\n",
       "      <th>354</th>\n",
       "      <td>8.2160</td>\n",
       "      <td>35.270199</td>\n",
       "      <td>9.000000</td>\n",
       "      <td>2017</td>\n",
       "    </tr>\n",
       "    <tr>\n",
       "      <th>395</th>\n",
       "      <td>8.2400</td>\n",
       "      <td>35.276642</td>\n",
       "      <td>9.416667</td>\n",
       "      <td>2017</td>\n",
       "    </tr>\n",
       "    <tr>\n",
       "      <th>559</th>\n",
       "      <td>8.2120</td>\n",
       "      <td>35.204185</td>\n",
       "      <td>1.500000</td>\n",
       "      <td>2017</td>\n",
       "    </tr>\n",
       "    <tr>\n",
       "      <th>566</th>\n",
       "      <td>8.2400</td>\n",
       "      <td>35.301208</td>\n",
       "      <td>17.000000</td>\n",
       "      <td>2017</td>\n",
       "    </tr>\n",
       "    <tr>\n",
       "      <th>569</th>\n",
       "      <td>8.2400</td>\n",
       "      <td>35.301208</td>\n",
       "      <td>13.833333</td>\n",
       "      <td>2017</td>\n",
       "    </tr>\n",
       "    <tr>\n",
       "      <th>574</th>\n",
       "      <td>8.2400</td>\n",
       "      <td>35.301208</td>\n",
       "      <td>13.470000</td>\n",
       "      <td>2017</td>\n",
       "    </tr>\n",
       "  </tbody>\n",
       "</table>\n",
       "</div>"
      ],
      "text/plain": [
       "         PH  Salinity_mean      Depth  max_yr\n",
       "67   8.2150      35.100085  16.000000    2017\n",
       "68   8.2145      35.144927  10.000000    2017\n",
       "70   8.2150      35.101086  11.000000    2017\n",
       "71   8.2150      35.101086  11.000000    2017\n",
       "72   8.2150      35.101086   9.000000    2017\n",
       "73   8.2150      35.101086   9.000000    2017\n",
       "84   8.2110      35.278084  12.500000    2017\n",
       "85   8.2110      35.278084   6.000000    2017\n",
       "164  8.2220      35.337914   9.875000    2017\n",
       "167  8.2220      35.337914  12.075000    2017\n",
       "169  8.2220      35.337914  10.300000    2017\n",
       "172  8.2220      35.337914  11.000000    2017\n",
       "174  8.2225      35.287419   7.266667    2017\n",
       "176  8.2225      35.287419  13.225000    2017\n",
       "179  8.2225      35.287419  10.550000    2017\n",
       "182  8.2220      35.331669  12.033333    2017\n",
       "185  8.2230      35.374460  10.900000    2017\n",
       "188  8.2230      35.374460  14.725000    2017\n",
       "191  8.2230      35.247482   9.725000    2017\n",
       "194  8.2230      35.341358  11.075000    2017\n",
       "197  8.2230      35.390354  10.600000    2017\n",
       "346  8.2165      35.114244   7.000000    2017\n",
       "347  8.2165      35.112398   3.000000    2017\n",
       "348  8.2165      35.112398   4.000000    2017\n",
       "349  8.2160      35.117374   5.500000    2017\n",
       "350  8.2160      35.117374   2.000000    2017\n",
       "351  8.2160      35.117374  15.000000    2017\n",
       "352  8.2160      35.117374   5.000000    2017\n",
       "353  8.2165      35.149462  11.000000    2017\n",
       "354  8.2160      35.270199   9.000000    2017\n",
       "395  8.2400      35.276642   9.416667    2017\n",
       "559  8.2120      35.204185   1.500000    2017\n",
       "566  8.2400      35.301208  17.000000    2017\n",
       "569  8.2400      35.301208  13.833333    2017\n",
       "574  8.2400      35.301208  13.470000    2017"
      ]
     },
     "execution_count": 27,
     "metadata": {},
     "output_type": "execute_result"
    }
   ],
   "source": [
    "# View the dataframe \n",
    "sampling_2017"
   ]
  },
  {
   "cell_type": "code",
   "execution_count": 28,
   "metadata": {
    "deletable": false,
    "editable": false
   },
   "outputs": [
    {
     "data": {
      "text/html": [
       "<p><strong><pre style='display: inline;'>q10</pre></strong> passed! 💯</p>"
      ],
      "text/plain": [
       "q10 results: All test cases passed!"
      ]
     },
     "execution_count": 28,
     "metadata": {},
     "output_type": "execute_result"
    }
   ],
   "source": [
    "grader.check(\"q10\")"
   ]
  },
  {
   "cell_type": "markdown",
   "metadata": {
    "deletable": false,
    "editable": false
   },
   "source": [
    "## 11\n",
    "Use `iloc` to select rows 95 through 100 (including 100) in the 17th, 20th, and 28th columns and assign these values to a new variable called `subset`. View the new `subset` dataframe.\n",
    "\n",
    "HINT: the ouput columns should be `Salinity_mean`, `mean.npp` and `Current_vel_mean` (in that order!)."
   ]
  },
  {
   "cell_type": "code",
   "execution_count": 29,
   "metadata": {
    "tags": [
     "otter_answer_cell"
    ]
   },
   "outputs": [],
   "source": [
    "# Selecting the rows and columns we are interested using the index.\n",
    "subset = coral_div.iloc[95:101, [16, 19, 27]]"
   ]
  },
  {
   "cell_type": "code",
   "execution_count": 30,
   "metadata": {
    "tags": [
     "otter_answer_cell"
    ]
   },
   "outputs": [
    {
     "data": {
      "application/vnd.microsoft.datawrangler.viewer.v0+json": {
       "columns": [
        {
         "name": "index",
         "rawType": "int64",
         "type": "integer"
        },
        {
         "name": "Salinity_mean",
         "rawType": "float64",
         "type": "float"
        },
        {
         "name": "mean.npp",
         "rawType": "float64",
         "type": "float"
        },
        {
         "name": "Current_vel_mean",
         "rawType": "float64",
         "type": "float"
        }
       ],
       "ref": "21cd922c-4d8f-4662-82d9-4b037a135678",
       "rows": [
        [
         "95",
         "35.2016295",
         "1365.146729",
         "0.8784165"
        ],
        [
         "96",
         "35.204185",
         "1117.63501",
         "0.839372"
        ],
        [
         "97",
         "35.2347735",
         "1105.270142",
         "0.6859545"
        ],
        [
         "98",
         "35.2347735",
         "1105.270142",
         "0.6859545"
        ],
        [
         "99",
         "35.2500675",
         "1082.196411",
         null
        ],
        [
         "100",
         "35.2500675",
         "1082.196411",
         null
        ]
       ],
       "shape": {
        "columns": 3,
        "rows": 6
       }
      },
      "text/html": [
       "<div>\n",
       "<style scoped>\n",
       "    .dataframe tbody tr th:only-of-type {\n",
       "        vertical-align: middle;\n",
       "    }\n",
       "\n",
       "    .dataframe tbody tr th {\n",
       "        vertical-align: top;\n",
       "    }\n",
       "\n",
       "    .dataframe thead th {\n",
       "        text-align: right;\n",
       "    }\n",
       "</style>\n",
       "<table border=\"1\" class=\"dataframe\">\n",
       "  <thead>\n",
       "    <tr style=\"text-align: right;\">\n",
       "      <th></th>\n",
       "      <th>Salinity_mean</th>\n",
       "      <th>mean.npp</th>\n",
       "      <th>Current_vel_mean</th>\n",
       "    </tr>\n",
       "  </thead>\n",
       "  <tbody>\n",
       "    <tr>\n",
       "      <th>95</th>\n",
       "      <td>35.201630</td>\n",
       "      <td>1365.146729</td>\n",
       "      <td>0.878417</td>\n",
       "    </tr>\n",
       "    <tr>\n",
       "      <th>96</th>\n",
       "      <td>35.204185</td>\n",
       "      <td>1117.635010</td>\n",
       "      <td>0.839372</td>\n",
       "    </tr>\n",
       "    <tr>\n",
       "      <th>97</th>\n",
       "      <td>35.234774</td>\n",
       "      <td>1105.270142</td>\n",
       "      <td>0.685955</td>\n",
       "    </tr>\n",
       "    <tr>\n",
       "      <th>98</th>\n",
       "      <td>35.234774</td>\n",
       "      <td>1105.270142</td>\n",
       "      <td>0.685955</td>\n",
       "    </tr>\n",
       "    <tr>\n",
       "      <th>99</th>\n",
       "      <td>35.250068</td>\n",
       "      <td>1082.196411</td>\n",
       "      <td>NaN</td>\n",
       "    </tr>\n",
       "    <tr>\n",
       "      <th>100</th>\n",
       "      <td>35.250068</td>\n",
       "      <td>1082.196411</td>\n",
       "      <td>NaN</td>\n",
       "    </tr>\n",
       "  </tbody>\n",
       "</table>\n",
       "</div>"
      ],
      "text/plain": [
       "     Salinity_mean     mean.npp  Current_vel_mean\n",
       "95       35.201630  1365.146729          0.878417\n",
       "96       35.204185  1117.635010          0.839372\n",
       "97       35.234774  1105.270142          0.685955\n",
       "98       35.234774  1105.270142          0.685955\n",
       "99       35.250068  1082.196411               NaN\n",
       "100      35.250068  1082.196411               NaN"
      ]
     },
     "execution_count": 30,
     "metadata": {},
     "output_type": "execute_result"
    }
   ],
   "source": [
    "# View the dataframe\n",
    "subset"
   ]
  },
  {
   "cell_type": "code",
   "execution_count": 31,
   "metadata": {
    "deletable": false,
    "editable": false
   },
   "outputs": [
    {
     "data": {
      "text/html": [
       "<p><strong><pre style='display: inline;'>q11</pre></strong> passed! 🌈</p>"
      ],
      "text/plain": [
       "q11 results: All test cases passed!"
      ]
     },
     "execution_count": 31,
     "metadata": {},
     "output_type": "execute_result"
    }
   ],
   "source": [
    "grader.check(\"q11\")"
   ]
  },
  {
   "cell_type": "markdown",
   "metadata": {
    "deletable": false,
    "editable": false
   },
   "source": [
    "<!-- BEGIN QUESTION -->\n",
    "\n",
    "## 12 \n",
    "\n",
    "Run `subset.isna()`. Explain what this code does and what the output represents."
   ]
  },
  {
   "cell_type": "code",
   "execution_count": 34,
   "metadata": {},
   "outputs": [
    {
     "data": {
      "application/vnd.microsoft.datawrangler.viewer.v0+json": {
       "columns": [
        {
         "name": "index",
         "rawType": "int64",
         "type": "integer"
        },
        {
         "name": "Salinity_mean",
         "rawType": "bool",
         "type": "boolean"
        },
        {
         "name": "mean.npp",
         "rawType": "bool",
         "type": "boolean"
        },
        {
         "name": "Current_vel_mean",
         "rawType": "bool",
         "type": "boolean"
        }
       ],
       "ref": "1318924a-b263-4f90-8f84-b9990f5a8144",
       "rows": [
        [
         "95",
         "False",
         "False",
         "False"
        ],
        [
         "96",
         "False",
         "False",
         "False"
        ],
        [
         "97",
         "False",
         "False",
         "False"
        ],
        [
         "98",
         "False",
         "False",
         "False"
        ],
        [
         "99",
         "False",
         "False",
         "True"
        ],
        [
         "100",
         "False",
         "False",
         "True"
        ]
       ],
       "shape": {
        "columns": 3,
        "rows": 6
       }
      },
      "text/html": [
       "<div>\n",
       "<style scoped>\n",
       "    .dataframe tbody tr th:only-of-type {\n",
       "        vertical-align: middle;\n",
       "    }\n",
       "\n",
       "    .dataframe tbody tr th {\n",
       "        vertical-align: top;\n",
       "    }\n",
       "\n",
       "    .dataframe thead th {\n",
       "        text-align: right;\n",
       "    }\n",
       "</style>\n",
       "<table border=\"1\" class=\"dataframe\">\n",
       "  <thead>\n",
       "    <tr style=\"text-align: right;\">\n",
       "      <th></th>\n",
       "      <th>Salinity_mean</th>\n",
       "      <th>mean.npp</th>\n",
       "      <th>Current_vel_mean</th>\n",
       "    </tr>\n",
       "  </thead>\n",
       "  <tbody>\n",
       "    <tr>\n",
       "      <th>95</th>\n",
       "      <td>False</td>\n",
       "      <td>False</td>\n",
       "      <td>False</td>\n",
       "    </tr>\n",
       "    <tr>\n",
       "      <th>96</th>\n",
       "      <td>False</td>\n",
       "      <td>False</td>\n",
       "      <td>False</td>\n",
       "    </tr>\n",
       "    <tr>\n",
       "      <th>97</th>\n",
       "      <td>False</td>\n",
       "      <td>False</td>\n",
       "      <td>False</td>\n",
       "    </tr>\n",
       "    <tr>\n",
       "      <th>98</th>\n",
       "      <td>False</td>\n",
       "      <td>False</td>\n",
       "      <td>False</td>\n",
       "    </tr>\n",
       "    <tr>\n",
       "      <th>99</th>\n",
       "      <td>False</td>\n",
       "      <td>False</td>\n",
       "      <td>True</td>\n",
       "    </tr>\n",
       "    <tr>\n",
       "      <th>100</th>\n",
       "      <td>False</td>\n",
       "      <td>False</td>\n",
       "      <td>True</td>\n",
       "    </tr>\n",
       "  </tbody>\n",
       "</table>\n",
       "</div>"
      ],
      "text/plain": [
       "     Salinity_mean  mean.npp  Current_vel_mean\n",
       "95           False     False             False\n",
       "96           False     False             False\n",
       "97           False     False             False\n",
       "98           False     False             False\n",
       "99           False     False              True\n",
       "100          False     False              True"
      ]
     },
     "execution_count": 34,
     "metadata": {},
     "output_type": "execute_result"
    }
   ],
   "source": [
    "subset.isna()"
   ]
  },
  {
   "cell_type": "markdown",
   "metadata": {
    "tags": [
     "otter_answer_cell"
    ]
   },
   "source": [
    "`subset.isna()` returns a data frame with True or False statements. If a value is present within a cell of the data frame , 'False' is returned in that cell. If a value is NOT present within the data frame of the cell, 'True' is returned. This is due to the fact that `.isna()` is looking for NA/missing values."
   ]
  },
  {
   "cell_type": "markdown",
   "metadata": {
    "deletable": false,
    "editable": false
   },
   "source": [
    "<!-- END QUESTION -->\n",
    "\n",
    "<!-- BEGIN QUESTION -->\n",
    "\n",
    "## 13\n",
    "Run `subset.isna().any()`. Explain in your own words what this code does and what the output represents. HINT: check the [documentation of `pandas.Sries.any`](https://pandas.pydata.org/docs/reference/api/pandas.Series.any.html).\n"
   ]
  },
  {
   "cell_type": "code",
   "execution_count": 37,
   "metadata": {},
   "outputs": [
    {
     "data": {
      "application/vnd.microsoft.datawrangler.viewer.v0+json": {
       "columns": [
        {
         "name": "index",
         "rawType": "object",
         "type": "string"
        },
        {
         "name": "0",
         "rawType": "bool",
         "type": "boolean"
        }
       ],
       "ref": "f9f97301-d25a-4e7c-acc0-580ff7a6c84d",
       "rows": [
        [
         "Salinity_mean",
         "False"
        ],
        [
         "mean.npp",
         "False"
        ],
        [
         "Current_vel_mean",
         "True"
        ]
       ],
       "shape": {
        "columns": 1,
        "rows": 3
       }
      },
      "text/plain": [
       "Salinity_mean       False\n",
       "mean.npp            False\n",
       "Current_vel_mean     True\n",
       "dtype: bool"
      ]
     },
     "execution_count": 37,
     "metadata": {},
     "output_type": "execute_result"
    }
   ],
   "source": [
    "subset.isna().any()"
   ]
  },
  {
   "cell_type": "markdown",
   "metadata": {
    "tags": [
     "otter_answer_cell"
    ]
   },
   "source": [
    "`subset.isna().any()` returns a seires of True or False statements, correlating to the number of columns in the subset data frame. In this case by adding `.any`, if there is any missing values in the column, 'True' is returned. If there are no missing values in the column, 'False' is returned."
   ]
  },
  {
   "cell_type": "markdown",
   "metadata": {
    "deletable": false,
    "editable": false
   },
   "source": [
    "<!-- END QUESTION -->\n",
    "\n",
    "## 14 \n",
    "\n",
    "Select the rows in `subset` that have NA in the `Current_vel_mean` column. Store your answer in the `subset_na` variable."
   ]
  },
  {
   "cell_type": "code",
   "execution_count": null,
   "metadata": {
    "jp-MarkdownHeadingCollapsed": true,
    "tags": [
     "otter_answer_cell"
    ]
   },
   "outputs": [],
   "source": [
    "# Selecting the 'Current_vel_mean' columns from the subset data frame and using .isnull to filter the rows that contain an NA value in that column.\n",
    "subset_na = subset[subset['Current_vel_mean'].isnull()]"
   ]
  },
  {
   "cell_type": "code",
   "execution_count": 38,
   "metadata": {
    "tags": [
     "otter_answer_cell"
    ]
   },
   "outputs": [
    {
     "data": {
      "application/vnd.microsoft.datawrangler.viewer.v0+json": {
       "columns": [
        {
         "name": "index",
         "rawType": "int64",
         "type": "integer"
        },
        {
         "name": "Salinity_mean",
         "rawType": "float64",
         "type": "float"
        },
        {
         "name": "mean.npp",
         "rawType": "float64",
         "type": "float"
        },
        {
         "name": "Current_vel_mean",
         "rawType": "float64",
         "type": "float"
        }
       ],
       "ref": "8dac2aae-7464-4fe1-91cf-b7bcf207fdfd",
       "rows": [
        [
         "99",
         "35.2500675",
         "1082.196411",
         null
        ],
        [
         "100",
         "35.2500675",
         "1082.196411",
         null
        ]
       ],
       "shape": {
        "columns": 3,
        "rows": 2
       }
      },
      "text/html": [
       "<div>\n",
       "<style scoped>\n",
       "    .dataframe tbody tr th:only-of-type {\n",
       "        vertical-align: middle;\n",
       "    }\n",
       "\n",
       "    .dataframe tbody tr th {\n",
       "        vertical-align: top;\n",
       "    }\n",
       "\n",
       "    .dataframe thead th {\n",
       "        text-align: right;\n",
       "    }\n",
       "</style>\n",
       "<table border=\"1\" class=\"dataframe\">\n",
       "  <thead>\n",
       "    <tr style=\"text-align: right;\">\n",
       "      <th></th>\n",
       "      <th>Salinity_mean</th>\n",
       "      <th>mean.npp</th>\n",
       "      <th>Current_vel_mean</th>\n",
       "    </tr>\n",
       "  </thead>\n",
       "  <tbody>\n",
       "    <tr>\n",
       "      <th>99</th>\n",
       "      <td>35.250068</td>\n",
       "      <td>1082.196411</td>\n",
       "      <td>NaN</td>\n",
       "    </tr>\n",
       "    <tr>\n",
       "      <th>100</th>\n",
       "      <td>35.250068</td>\n",
       "      <td>1082.196411</td>\n",
       "      <td>NaN</td>\n",
       "    </tr>\n",
       "  </tbody>\n",
       "</table>\n",
       "</div>"
      ],
      "text/plain": [
       "     Salinity_mean     mean.npp  Current_vel_mean\n",
       "99       35.250068  1082.196411               NaN\n",
       "100      35.250068  1082.196411               NaN"
      ]
     },
     "execution_count": 38,
     "metadata": {},
     "output_type": "execute_result"
    }
   ],
   "source": [
    "# View the dataframe \n",
    "subset_na"
   ]
  },
  {
   "cell_type": "code",
   "execution_count": 39,
   "metadata": {
    "deletable": false,
    "editable": false
   },
   "outputs": [
    {
     "data": {
      "text/html": [
       "<p><strong><pre style='display: inline;'>q14</pre></strong> passed! 🎉</p>"
      ],
      "text/plain": [
       "q14 results: All test cases passed!"
      ]
     },
     "execution_count": 39,
     "metadata": {},
     "output_type": "execute_result"
    }
   ],
   "source": [
    "grader.check(\"q14\")"
   ]
  },
  {
   "cell_type": "markdown",
   "metadata": {
    "deletable": false,
    "editable": false
   },
   "source": [
    "---\n",
    "\n",
    "To double-check your work, the cell below will rerun all of the autograder tests."
   ]
  },
  {
   "cell_type": "code",
   "execution_count": 40,
   "metadata": {
    "deletable": false,
    "editable": false
   },
   "outputs": [
    {
     "data": {
      "text/plain": [
       "q10 results: All test cases passed!\n",
       "\n",
       "q11 results: All test cases passed!\n",
       "\n",
       "q14 results: All test cases passed!\n",
       "\n",
       "q3_a results: All test cases passed!\n",
       "\n",
       "q3_b results: All test cases passed!\n",
       "\n",
       "q3_c results: All test cases passed!\n",
       "\n",
       "q3_d results: All test cases passed!\n",
       "\n",
       "q6 results: All test cases passed!\n",
       "\n",
       "q8 results: All test cases passed!\n",
       "\n",
       "q9 results: All test cases passed!"
      ]
     },
     "execution_count": 40,
     "metadata": {},
     "output_type": "execute_result"
    }
   ],
   "source": [
    "grader.check_all()"
   ]
  },
  {
   "cell_type": "code",
   "execution_count": null,
   "metadata": {},
   "outputs": [],
   "source": []
  }
 ],
 "metadata": {
  "kernelspec": {
   "display_name": "EDS220",
   "language": "python",
   "name": "eds220-env"
  },
  "language_info": {
   "codemirror_mode": {
    "name": "ipython",
    "version": 3
   },
   "file_extension": ".py",
   "mimetype": "text/x-python",
   "name": "python",
   "nbconvert_exporter": "python",
   "pygments_lexer": "ipython3",
   "version": "3.11.4"
  }
 },
 "nbformat": 4,
 "nbformat_minor": 4
}
